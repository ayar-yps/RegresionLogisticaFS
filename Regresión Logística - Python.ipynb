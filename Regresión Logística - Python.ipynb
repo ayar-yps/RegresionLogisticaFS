{
 "cells": [
  {
   "cell_type": "markdown",
   "metadata": {},
   "source": [
    "# Regresión Logística"
   ]
  },
  {
   "cell_type": "markdown",
   "metadata": {},
   "source": [
    "__Por:__ _Ayar Yuman Paco Sanizo_\n",
    "\n",
    "__Club de Ciencia de Datos - La Paz__"
   ]
  },
  {
   "cell_type": "code",
   "execution_count": 109,
   "metadata": {},
   "outputs": [],
   "source": [
    "# Importar librerias\n",
    "\n",
    "# Librerias para la implementación\n",
    "import numpy as np\n",
    "import numpy.linalg as LA\n",
    "import pandas as pd\n",
    "import math\n",
    "import matplotlib.pyplot as plt\n",
    "from sklearn.metrics import confusion_matrix\n",
    "\n",
    "# Librerias para verificar resultados\n",
    "import statsmodels.api as sm\n",
    "import statsmodels.formula.api as smf\n",
    "from sklearn.linear_model import LogisticRegression"
   ]
  },
  {
   "cell_type": "markdown",
   "metadata": {},
   "source": [
    "## 1. Implementación de Algoritmos de Estimación"
   ]
  },
  {
   "cell_type": "markdown",
   "metadata": {},
   "source": [
    "### 1.1 Funciones Auxiliares"
   ]
  },
  {
   "cell_type": "code",
   "execution_count": 2,
   "metadata": {},
   "outputs": [],
   "source": [
    "# Función para calcular el estimador de p\n",
    "def calc_p(X, beta):\n",
    "    m = X.dot(beta)\n",
    "    p = np.exp(m)/(1+np.exp(m))\n",
    "    return(p)"
   ]
  },
  {
   "cell_type": "code",
   "execution_count": 27,
   "metadata": {},
   "outputs": [],
   "source": [
    "# Función de log-verosimilitud (-Costo)\n",
    "def log_ver(y, m, p):\n",
    "    lv = y.T.dot(np.log(p/(1-p)))+(m-y).T.dot(np.log(p))\n",
    "    return(lv)"
   ]
  },
  {
   "cell_type": "markdown",
   "metadata": {},
   "source": [
    "### 1.2 Gradient Descent"
   ]
  },
  {
   "cell_type": "code",
   "execution_count": 80,
   "metadata": {},
   "outputs": [],
   "source": [
    "# Gradient descent\n",
    "def grad_descent(y, X, beta, m=1, alpha=0.01,epocs=1000,eps=1e-7):\n",
    "    \n",
    "    # Estimar p\n",
    "    p = calc_p(X,beta)\n",
    "    \n",
    "    # Calcular gradiente\n",
    "    gradiente = -X.T.dot(y - m*p)\n",
    "    \n",
    "    # Definir historial de costos y betas\n",
    "    costos = []\n",
    "    costo = float(-log_ver(y,m,p))\n",
    "    costos.append(costo)\n",
    "    \n",
    "    beta_hist = pd.DataFrame(beta.T)\n",
    "    \n",
    "    # Contador\n",
    "    i=0\n",
    "    \n",
    "    while(LA.norm(gradiente)>eps and i<epocs):\n",
    "        \n",
    "        # Actualizar beta\n",
    "        beta = beta - alpha*gradiente\n",
    "        \n",
    "        # Estimar p\n",
    "        p = calc_p(X,beta)\n",
    "        \n",
    "        # Calcular gradiente\n",
    "        gradiente = -X.T.dot(y - m*p)\n",
    "        \n",
    "        # Actualizar historial\n",
    "        costo = float(-log_ver(y,m,p))\n",
    "        costos.append(costo)\n",
    "        \n",
    "        beta_hist=beta_hist.append(pd.DataFrame(beta.T),ignore_index=True) \n",
    "        \n",
    "        # Incrementar contador\n",
    "        i=i+1\n",
    "    \n",
    "    # Mostrar historial de betas\n",
    "    print(beta_hist)\n",
    "    \n",
    "    # Graficar evolución del costo\n",
    "    plt.plot(costos)\n",
    "    \n",
    "    return(beta, costo)"
   ]
  },
  {
   "cell_type": "markdown",
   "metadata": {},
   "source": [
    "### 1.3 Fisher Scoring"
   ]
  },
  {
   "cell_type": "code",
   "execution_count": 214,
   "metadata": {},
   "outputs": [],
   "source": [
    "# Fisher Scoring\n",
    "def fisher_scoring(X, y, beta, m=1, eps1=1e-7, maxit=100):\n",
    "    \n",
    "    # Calcular probabilidades\n",
    "    p = calc_p(X, beta)\n",
    "    \n",
    "    # Calcular función Score\n",
    "    score = X.T.dot(y - m*p)\n",
    "    \n",
    "    # Calcular Información de Fisher\n",
    "    var = (m*p * (1 - p)).T\n",
    "    var = np.diag(var[0])\n",
    "    IF =  X.T.dot(var).dot(X)\n",
    "    \n",
    "    # Definir historial de betas\n",
    "    beta_hist = pd.DataFrame(beta.T)\n",
    "    \n",
    "    # Definir historial de costos\n",
    "    costos= []\n",
    "    costo = float(-log_ver(y,m,p))\n",
    "    costos.append(costo)\n",
    "    \n",
    "    # Contador\n",
    "    i=0\n",
    "    \n",
    "    # Bucle de optimización\n",
    "    while(LA.norm(score)>eps1 and i<maxit):\n",
    "        \n",
    "        # Actualizar beta\n",
    "        beta = beta + LA.inv(IF).dot(score)\n",
    "        \n",
    "        # Calcular probabilidades\n",
    "        p = calc_p(X, beta)\n",
    "        \n",
    "        # Calcular función Score\n",
    "        score = X.T.dot(y - m*p)\n",
    "        \n",
    "        # Calcular Información de Fisher\n",
    "        var = (m*p * (1 - p)).T\n",
    "        var = np.diag(var[0])\n",
    "        IF =  X.T.dot(var).dot(X)\n",
    "        \n",
    "        # Actualizar historial\n",
    "        beta_hist=beta_hist.append(pd.DataFrame(beta.T),ignore_index=True) \n",
    "        \n",
    "        costo = float(-log_ver(y,m,p))\n",
    "        costos.append(costo)\n",
    "        \n",
    "        # Incrementar contador\n",
    "        i=i+1\n",
    "    \n",
    "    # Mostrar historial de betas\n",
    "    print(beta_hist)    \n",
    "    \n",
    "    # Graficar evolución del costo\n",
    "    plt.plot(costos)\n",
    "    \n",
    "    # Retornar el beta óptimo y el costo alcanzado\n",
    "    return(beta, costo)"
   ]
  },
  {
   "cell_type": "markdown",
   "metadata": {},
   "source": [
    "## 2. Ejemplos numéricos"
   ]
  },
  {
   "cell_type": "markdown",
   "metadata": {},
   "source": [
    "Una vez definidos los algoritmos procedemos a verificiar si podemos obtener estimadores adecuadamente. A continuación se consideran datos donde las varaibles de respuesta que siguen distribuciones Bernoulli y distribuciones Binomiales."
   ]
  },
  {
   "cell_type": "markdown",
   "metadata": {},
   "source": [
    "### 2.1 Datos con respuestas Bernoulli"
   ]
  },
  {
   "cell_type": "markdown",
   "metadata": {},
   "source": [
    "En el siguiente conjunto de datos de pacientes tenemos:\n",
    "\n",
    "__Variable de respuesta__\n",
    "\n",
    "* $Ataque2_i$: Indicatriz de que el paciente $i$ haya sufrido un segundo ataque al corazón. \n",
    "\n",
    "__Variables predictoras__\n",
    "\n",
    "* $TEnojo_i$: Indicatriz de que se haya aplicado un tratamiento de enojo al paciente $i$.\n",
    "* $TAnsiedad_i$: Puntaje del paciente $i$ en un test de ansiedad."
   ]
  },
  {
   "cell_type": "code",
   "execution_count": 222,
   "metadata": {},
   "outputs": [
    {
     "data": {
      "text/html": [
       "<div>\n",
       "<style scoped>\n",
       "    .dataframe tbody tr th:only-of-type {\n",
       "        vertical-align: middle;\n",
       "    }\n",
       "\n",
       "    .dataframe tbody tr th {\n",
       "        vertical-align: top;\n",
       "    }\n",
       "\n",
       "    .dataframe thead th {\n",
       "        text-align: right;\n",
       "    }\n",
       "</style>\n",
       "<table border=\"1\" class=\"dataframe\">\n",
       "  <thead>\n",
       "    <tr style=\"text-align: right;\">\n",
       "      <th></th>\n",
       "      <th>Ataque2</th>\n",
       "      <th>TEnojo</th>\n",
       "      <th>TAnsiedad</th>\n",
       "    </tr>\n",
       "  </thead>\n",
       "  <tbody>\n",
       "    <tr>\n",
       "      <th>0</th>\n",
       "      <td>1</td>\n",
       "      <td>1</td>\n",
       "      <td>70</td>\n",
       "    </tr>\n",
       "    <tr>\n",
       "      <th>1</th>\n",
       "      <td>1</td>\n",
       "      <td>1</td>\n",
       "      <td>80</td>\n",
       "    </tr>\n",
       "    <tr>\n",
       "      <th>2</th>\n",
       "      <td>1</td>\n",
       "      <td>1</td>\n",
       "      <td>50</td>\n",
       "    </tr>\n",
       "    <tr>\n",
       "      <th>3</th>\n",
       "      <td>1</td>\n",
       "      <td>0</td>\n",
       "      <td>60</td>\n",
       "    </tr>\n",
       "    <tr>\n",
       "      <th>4</th>\n",
       "      <td>1</td>\n",
       "      <td>0</td>\n",
       "      <td>40</td>\n",
       "    </tr>\n",
       "    <tr>\n",
       "      <th>5</th>\n",
       "      <td>1</td>\n",
       "      <td>0</td>\n",
       "      <td>65</td>\n",
       "    </tr>\n",
       "    <tr>\n",
       "      <th>6</th>\n",
       "      <td>1</td>\n",
       "      <td>0</td>\n",
       "      <td>75</td>\n",
       "    </tr>\n",
       "    <tr>\n",
       "      <th>7</th>\n",
       "      <td>1</td>\n",
       "      <td>0</td>\n",
       "      <td>80</td>\n",
       "    </tr>\n",
       "    <tr>\n",
       "      <th>8</th>\n",
       "      <td>1</td>\n",
       "      <td>0</td>\n",
       "      <td>70</td>\n",
       "    </tr>\n",
       "    <tr>\n",
       "      <th>9</th>\n",
       "      <td>1</td>\n",
       "      <td>0</td>\n",
       "      <td>60</td>\n",
       "    </tr>\n",
       "    <tr>\n",
       "      <th>10</th>\n",
       "      <td>0</td>\n",
       "      <td>1</td>\n",
       "      <td>65</td>\n",
       "    </tr>\n",
       "    <tr>\n",
       "      <th>11</th>\n",
       "      <td>0</td>\n",
       "      <td>1</td>\n",
       "      <td>50</td>\n",
       "    </tr>\n",
       "    <tr>\n",
       "      <th>12</th>\n",
       "      <td>0</td>\n",
       "      <td>1</td>\n",
       "      <td>45</td>\n",
       "    </tr>\n",
       "    <tr>\n",
       "      <th>13</th>\n",
       "      <td>0</td>\n",
       "      <td>1</td>\n",
       "      <td>35</td>\n",
       "    </tr>\n",
       "    <tr>\n",
       "      <th>14</th>\n",
       "      <td>0</td>\n",
       "      <td>1</td>\n",
       "      <td>40</td>\n",
       "    </tr>\n",
       "    <tr>\n",
       "      <th>15</th>\n",
       "      <td>0</td>\n",
       "      <td>1</td>\n",
       "      <td>50</td>\n",
       "    </tr>\n",
       "    <tr>\n",
       "      <th>16</th>\n",
       "      <td>0</td>\n",
       "      <td>0</td>\n",
       "      <td>55</td>\n",
       "    </tr>\n",
       "    <tr>\n",
       "      <th>17</th>\n",
       "      <td>0</td>\n",
       "      <td>0</td>\n",
       "      <td>45</td>\n",
       "    </tr>\n",
       "    <tr>\n",
       "      <th>18</th>\n",
       "      <td>0</td>\n",
       "      <td>0</td>\n",
       "      <td>50</td>\n",
       "    </tr>\n",
       "    <tr>\n",
       "      <th>19</th>\n",
       "      <td>0</td>\n",
       "      <td>0</td>\n",
       "      <td>60</td>\n",
       "    </tr>\n",
       "  </tbody>\n",
       "</table>\n",
       "</div>"
      ],
      "text/plain": [
       "    Ataque2  TEnojo  TAnsiedad\n",
       "0         1       1         70\n",
       "1         1       1         80\n",
       "2         1       1         50\n",
       "3         1       0         60\n",
       "4         1       0         40\n",
       "5         1       0         65\n",
       "6         1       0         75\n",
       "7         1       0         80\n",
       "8         1       0         70\n",
       "9         1       0         60\n",
       "10        0       1         65\n",
       "11        0       1         50\n",
       "12        0       1         45\n",
       "13        0       1         35\n",
       "14        0       1         40\n",
       "15        0       1         50\n",
       "16        0       0         55\n",
       "17        0       0         45\n",
       "18        0       0         50\n",
       "19        0       0         60"
      ]
     },
     "execution_count": 222,
     "metadata": {},
     "output_type": "execute_result"
    }
   ],
   "source": [
    "# Lectura de datos\n",
    "data = pd.DataFrame(np.matrix([[1,1,1,1,1,1,1,1,1,1,0,0,0,0,0,0,0,0,0,0],\n",
    "                               [1,1,1,0,0,0,0,0,0,0,1,1,1,1,1,1,0,0,0,0],\n",
    "                               [70,80,50,60,40,65,75,80,70,60,65,50,45,35,40,50,55,45,50,60]]).T,\n",
    "                    columns=['Ataque2','TEnojo','TAnsiedad'])\n",
    "data"
   ]
  },
  {
   "cell_type": "markdown",
   "metadata": {},
   "source": [
    "#### 2.1.1 Estimación de parámetros"
   ]
  },
  {
   "cell_type": "code",
   "execution_count": 223,
   "metadata": {},
   "outputs": [],
   "source": [
    "# Preparación de variables\n",
    "y =np.array(data['Ataque2'])\n",
    "y.shape = (len(y),1)\n",
    "\n",
    "x1 = np.array(data['TEnojo'])\n",
    "x2 = np.array(data['TAnsiedad'])\n",
    "\n",
    "X = np.stack((np.ones(len(y)),x1,x2)).T"
   ]
  },
  {
   "cell_type": "code",
   "execution_count": 224,
   "metadata": {},
   "outputs": [
    {
     "data": {
      "text/plain": [
       "array([[0.],\n",
       "       [0.],\n",
       "       [0.]])"
      ]
     },
     "execution_count": 224,
     "metadata": {},
     "output_type": "execute_result"
    }
   ],
   "source": [
    "# Definición de un beta inicial\n",
    "beta_0 = np.array([math.log(sum(y) / sum(1 - y)), 0, 0])\n",
    "beta_0.shape=(3,1)\n",
    "beta_0"
   ]
  },
  {
   "cell_type": "markdown",
   "metadata": {},
   "source": [
    "__Gradient Descent__"
   ]
  },
  {
   "cell_type": "code",
   "execution_count": 225,
   "metadata": {},
   "outputs": [
    {
     "name": "stdout",
     "output_type": "stream",
     "text": [
      "             0         1         2\n",
      "0     0.000000  0.000000  0.000000\n",
      "1     0.000000 -0.000015  0.000775\n",
      "2    -0.000002 -0.000031  0.001416\n",
      "3    -0.000006 -0.000048  0.001947\n",
      "4    -0.000012 -0.000065  0.002387\n",
      "5    -0.000019 -0.000083  0.002751\n",
      "6    -0.000027 -0.000101  0.003053\n",
      "7    -0.000035 -0.000120  0.003304\n",
      "8    -0.000045 -0.000139  0.003511\n",
      "9    -0.000055 -0.000158  0.003684\n",
      "10   -0.000065 -0.000178  0.003827\n",
      "11   -0.000076 -0.000197  0.003946\n",
      "12   -0.000087 -0.000217  0.004044\n",
      "13   -0.000099 -0.000237  0.004126\n",
      "14   -0.000111 -0.000257  0.004195\n",
      "15   -0.000122 -0.000277  0.004251\n",
      "16   -0.000135 -0.000297  0.004298\n",
      "17   -0.000147 -0.000317  0.004338\n",
      "18   -0.000159 -0.000337  0.004370\n",
      "19   -0.000171 -0.000358  0.004397\n",
      "20   -0.000184 -0.000378  0.004420\n",
      "21   -0.000197 -0.000398  0.004439\n",
      "22   -0.000209 -0.000419  0.004455\n",
      "23   -0.000222 -0.000439  0.004468\n",
      "24   -0.000235 -0.000459  0.004479\n",
      "25   -0.000247 -0.000480  0.004488\n",
      "26   -0.000260 -0.000500  0.004496\n",
      "27   -0.000273 -0.000520  0.004502\n",
      "28   -0.000286 -0.000541  0.004508\n",
      "29   -0.000298 -0.000561  0.004512\n",
      "...        ...       ...       ...\n",
      "971  -0.012381 -0.019682  0.004869\n",
      "972  -0.012394 -0.019702  0.004869\n",
      "973  -0.012407 -0.019723  0.004869\n",
      "974  -0.012420 -0.019743  0.004870\n",
      "975  -0.012432 -0.019763  0.004870\n",
      "976  -0.012445 -0.019783  0.004871\n",
      "977  -0.012458 -0.019803  0.004871\n",
      "978  -0.012471 -0.019823  0.004871\n",
      "979  -0.012484 -0.019844  0.004872\n",
      "980  -0.012496 -0.019864  0.004872\n",
      "981  -0.012509 -0.019884  0.004872\n",
      "982  -0.012522 -0.019904  0.004873\n",
      "983  -0.012535 -0.019924  0.004873\n",
      "984  -0.012548 -0.019944  0.004873\n",
      "985  -0.012560 -0.019964  0.004874\n",
      "986  -0.012573 -0.019985  0.004874\n",
      "987  -0.012586 -0.020005  0.004874\n",
      "988  -0.012599 -0.020025  0.004875\n",
      "989  -0.012612 -0.020045  0.004875\n",
      "990  -0.012624 -0.020065  0.004876\n",
      "991  -0.012637 -0.020085  0.004876\n",
      "992  -0.012650 -0.020105  0.004876\n",
      "993  -0.012663 -0.020126  0.004877\n",
      "994  -0.012675 -0.020146  0.004877\n",
      "995  -0.012688 -0.020166  0.004877\n",
      "996  -0.012701 -0.020186  0.004878\n",
      "997  -0.012714 -0.020206  0.004878\n",
      "998  -0.012727 -0.020226  0.004878\n",
      "999  -0.012739 -0.020247  0.004879\n",
      "1000 -0.012752 -0.020267  0.004879\n",
      "\n",
      "[1001 rows x 3 columns]\n"
     ]
    },
    {
     "data": {
      "image/png": "[encoded data removed]",
      "text/plain": [
       "<matplotlib.figure.Figure at 0x29152394358>"
      ]
     },
     "metadata": {},
     "output_type": "display_data"
    }
   ],
   "source": [
    "# Estimación por gradient descent\n",
    "beta_gd, costo_gd = grad_descent(y, X, beta_0, alpha=0.00001,epocs=1000)"
   ]
  },
  {
   "cell_type": "code",
   "execution_count": 250,
   "metadata": {},
   "outputs": [
    {
     "name": "stdout",
     "output_type": "stream",
     "text": [
      "2.9264588492334243\n"
     ]
    }
   ],
   "source": [
    "# Costo\n",
    "print(costo_gd)"
   ]
  },
  {
   "cell_type": "code",
   "execution_count": 251,
   "metadata": {},
   "outputs": [
    {
     "name": "stdout",
     "output_type": "stream",
     "text": [
      "[[ 0 10]\n",
      " [ 0 10]]\n"
     ]
    }
   ],
   "source": [
    "# Matriz de confusión\n",
    "cm_gd = confusion_matrix(y, np.round(calc_p(X, beta_gd),0))\n",
    "print(cm_gd)"
   ]
  },
  {
   "cell_type": "code",
   "execution_count": 252,
   "metadata": {},
   "outputs": [
    {
     "data": {
      "text/plain": [
       "0.5"
      ]
     },
     "execution_count": 252,
     "metadata": {},
     "output_type": "execute_result"
    }
   ],
   "source": [
    "# Medida de error\n",
    "(cm_gd[0,0]+cm_gd[1,1])/y.size"
   ]
  },
  {
   "cell_type": "markdown",
   "metadata": {},
   "source": [
    "__Fisher Scoring__"
   ]
  },
  {
   "cell_type": "code",
   "execution_count": 227,
   "metadata": {},
   "outputs": [
    {
     "name": "stdout",
     "output_type": "stream",
     "text": [
      "          0         1         2\n",
      "0  0.000000  0.000000  0.000000\n",
      "1 -4.518010 -0.696398  0.084391\n",
      "2 -6.021025 -0.959954  0.112636\n",
      "3 -6.349819 -1.021373  0.118791\n",
      "4 -6.363447 -1.024101  0.119044\n",
      "5 -6.363470 -1.024106  0.119045\n"
     ]
    },
    {
     "data": {
      "image/png": "[encoded data removed]",
      "text/plain": [
       "<matplotlib.figure.Figure at 0x2915209f6a0>"
      ]
     },
     "metadata": {},
     "output_type": "display_data"
    }
   ],
   "source": [
    "# Estimación por fisher scoring\n",
    "beta_fs, costo_fs = fisher_scoring(X, y, beta_0)"
   ]
  },
  {
   "cell_type": "code",
   "execution_count": 247,
   "metadata": {},
   "outputs": [
    {
     "name": "stdout",
     "output_type": "stream",
     "text": [
      "4.4891618404674976\n"
     ]
    }
   ],
   "source": [
    "# Costo\n",
    "print(costo_fs)"
   ]
  },
  {
   "cell_type": "code",
   "execution_count": 248,
   "metadata": {},
   "outputs": [
    {
     "name": "stdout",
     "output_type": "stream",
     "text": [
      "[[7 3]\n",
      " [2 8]]\n"
     ]
    }
   ],
   "source": [
    "# Matriz de confusión\n",
    "cm_fs = confusion_matrix(y, np.round(calc_p(X, beta_fs),0))\n",
    "print(cm_fs)"
   ]
  },
  {
   "cell_type": "code",
   "execution_count": 249,
   "metadata": {},
   "outputs": [
    {
     "data": {
      "text/plain": [
       "0.75"
      ]
     },
     "execution_count": 249,
     "metadata": {},
     "output_type": "execute_result"
    }
   ],
   "source": [
    "# Medida de Error\n",
    "(cm_fs[0,0]+cm_fs[1,1])/y.size"
   ]
  },
  {
   "cell_type": "markdown",
   "metadata": {},
   "source": [
    "#### 2.1.2 Verificación de resultados"
   ]
  },
  {
   "cell_type": "markdown",
   "metadata": {},
   "source": [
    "A continuación verificamos si obtenemos estimadores próximos a los que se obtenienen usando dos librerías."
   ]
  },
  {
   "cell_type": "markdown",
   "metadata": {},
   "source": [
    "__StatsModels__"
   ]
  },
  {
   "cell_type": "code",
   "execution_count": 229,
   "metadata": {},
   "outputs": [
    {
     "name": "stdout",
     "output_type": "stream",
     "text": [
      "                 Generalized Linear Model Regression Results                  \n",
      "==============================================================================\n",
      "Dep. Variable:                Ataque2   No. Observations:                   20\n",
      "Model:                            GLM   Df Residuals:                       17\n",
      "Model Family:                Binomial   Df Model:                            2\n",
      "Link Function:                  logit   Scale:                             1.0\n",
      "Method:                          IRLS   Log-Likelihood:                -9.4102\n",
      "Date:                Fri, 22 Jun 2018   Deviance:                       18.820\n",
      "Time:                        22:25:23   Pearson chi2:                     17.6\n",
      "No. Iterations:                     5                                         \n",
      "==============================================================================\n",
      "                 coef    std err          z      P>|z|      [0.025      0.975]\n",
      "------------------------------------------------------------------------------\n",
      "Intercept     -6.3635      3.214     -1.980      0.048     -12.663      -0.064\n",
      "TEnojo        -1.0241      1.171     -0.874      0.382      -3.319       1.271\n",
      "TAnsiedad      0.1190      0.055      2.165      0.030       0.011       0.227\n",
      "==============================================================================\n"
     ]
    }
   ],
   "source": [
    "sm_model = smf.glm(formula = 'Ataque2 ~ TEnojo + TAnsiedad', data=data, family=sm.families.Binomial())\n",
    "result = sm_model.fit()\n",
    "print(result.summary())"
   ]
  },
  {
   "cell_type": "markdown",
   "metadata": {},
   "source": [
    "__Sklearn__"
   ]
  },
  {
   "cell_type": "code",
   "execution_count": 230,
   "metadata": {},
   "outputs": [
    {
     "data": {
      "text/plain": [
       "array([[-0.89939683],\n",
       "       [-0.78848242],\n",
       "       [ 0.02525792]])"
      ]
     },
     "execution_count": 230,
     "metadata": {},
     "output_type": "execute_result"
    }
   ],
   "source": [
    "sk_model = LogisticRegression()\n",
    "sk_model.fit(X[:,1:],y.ravel())\n",
    "beta_sk=np.zeros([3, 1])\n",
    "beta_sk[0,0]=sk_model.intercept_\n",
    "beta_sk[1,0]=sk_model.coef_[0][0]\n",
    "beta_sk[2,0]=sk_model.coef_[0][1]\n",
    "beta_sk"
   ]
  },
  {
   "cell_type": "code",
   "execution_count": 244,
   "metadata": {},
   "outputs": [
    {
     "name": "stdout",
     "output_type": "stream",
     "text": [
      "[[2.80179402]]\n"
     ]
    }
   ],
   "source": [
    "# Costo\n",
    "print(-log_ver(y, m=1, p=calc_p(X, beta_sk)))"
   ]
  },
  {
   "cell_type": "code",
   "execution_count": 245,
   "metadata": {},
   "outputs": [
    {
     "name": "stdout",
     "output_type": "stream",
     "text": [
      "[[6 4]\n",
      " [1 9]]\n"
     ]
    }
   ],
   "source": [
    "# Matriz de confución\n",
    "cm_sk = confusion_matrix(y, np.round(calc_p(X, beta_sk),0))\n",
    "print(cm_sk)"
   ]
  },
  {
   "cell_type": "code",
   "execution_count": 246,
   "metadata": {},
   "outputs": [
    {
     "data": {
      "text/plain": [
       "0.75"
      ]
     },
     "execution_count": 246,
     "metadata": {},
     "output_type": "execute_result"
    }
   ],
   "source": [
    "# Medida de Error\n",
    "(cm_sk[0,0]+cm_sk[1,1])/y.size"
   ]
  },
  {
   "cell_type": "markdown",
   "metadata": {},
   "source": [
    "### 2.1 Datos con respuestas Binomiales"
   ]
  },
  {
   "cell_type": "markdown",
   "metadata": {},
   "source": [
    "En este caso el conjunto de datos corresponde a escarabajos.\n",
    "\n",
    "__Variable de Respuesta__ \n",
    "\n",
    "* $y_i$: Número de escarabajos muertos respecto a un total de $n_i$ expuestos a cierta concentración $i$ de veneno\n",
    "\n",
    "__Variables Predictoras__ \n",
    "\n",
    "* $conc_i$: Concentración $i$ de un veneno\n",
    "* ${conc_i}^2$: Concentración $i$ del veneno al cuadrado"
   ]
  },
  {
   "cell_type": "code",
   "execution_count": 255,
   "metadata": {},
   "outputs": [
    {
     "data": {
      "text/html": [
       "<div>\n",
       "<style scoped>\n",
       "    .dataframe tbody tr th:only-of-type {\n",
       "        vertical-align: middle;\n",
       "    }\n",
       "\n",
       "    .dataframe tbody tr th {\n",
       "        vertical-align: top;\n",
       "    }\n",
       "\n",
       "    .dataframe thead th {\n",
       "        text-align: right;\n",
       "    }\n",
       "</style>\n",
       "<table border=\"1\" class=\"dataframe\">\n",
       "  <thead>\n",
       "    <tr style=\"text-align: right;\">\n",
       "      <th></th>\n",
       "      <th>conc</th>\n",
       "      <th>y</th>\n",
       "      <th>n</th>\n",
       "    </tr>\n",
       "  </thead>\n",
       "  <tbody>\n",
       "    <tr>\n",
       "      <th>0</th>\n",
       "      <td>49.06</td>\n",
       "      <td>2</td>\n",
       "      <td>29</td>\n",
       "    </tr>\n",
       "    <tr>\n",
       "      <th>1</th>\n",
       "      <td>52.99</td>\n",
       "      <td>7</td>\n",
       "      <td>30</td>\n",
       "    </tr>\n",
       "    <tr>\n",
       "      <th>2</th>\n",
       "      <td>56.91</td>\n",
       "      <td>9</td>\n",
       "      <td>28</td>\n",
       "    </tr>\n",
       "    <tr>\n",
       "      <th>3</th>\n",
       "      <td>60.84</td>\n",
       "      <td>14</td>\n",
       "      <td>27</td>\n",
       "    </tr>\n",
       "    <tr>\n",
       "      <th>4</th>\n",
       "      <td>64.76</td>\n",
       "      <td>23</td>\n",
       "      <td>30</td>\n",
       "    </tr>\n",
       "    <tr>\n",
       "      <th>5</th>\n",
       "      <td>68.69</td>\n",
       "      <td>29</td>\n",
       "      <td>31</td>\n",
       "    </tr>\n",
       "    <tr>\n",
       "      <th>6</th>\n",
       "      <td>72.61</td>\n",
       "      <td>29</td>\n",
       "      <td>30</td>\n",
       "    </tr>\n",
       "    <tr>\n",
       "      <th>7</th>\n",
       "      <td>76.54</td>\n",
       "      <td>29</td>\n",
       "      <td>29</td>\n",
       "    </tr>\n",
       "    <tr>\n",
       "      <th>8</th>\n",
       "      <td>49.06</td>\n",
       "      <td>4</td>\n",
       "      <td>30</td>\n",
       "    </tr>\n",
       "    <tr>\n",
       "      <th>9</th>\n",
       "      <td>52.99</td>\n",
       "      <td>6</td>\n",
       "      <td>30</td>\n",
       "    </tr>\n",
       "    <tr>\n",
       "      <th>10</th>\n",
       "      <td>56.91</td>\n",
       "      <td>9</td>\n",
       "      <td>34</td>\n",
       "    </tr>\n",
       "    <tr>\n",
       "      <th>11</th>\n",
       "      <td>60.84</td>\n",
       "      <td>14</td>\n",
       "      <td>29</td>\n",
       "    </tr>\n",
       "    <tr>\n",
       "      <th>12</th>\n",
       "      <td>64.76</td>\n",
       "      <td>29</td>\n",
       "      <td>33</td>\n",
       "    </tr>\n",
       "    <tr>\n",
       "      <th>13</th>\n",
       "      <td>68.69</td>\n",
       "      <td>24</td>\n",
       "      <td>28</td>\n",
       "    </tr>\n",
       "    <tr>\n",
       "      <th>14</th>\n",
       "      <td>72.61</td>\n",
       "      <td>32</td>\n",
       "      <td>32</td>\n",
       "    </tr>\n",
       "    <tr>\n",
       "      <th>15</th>\n",
       "      <td>76.54</td>\n",
       "      <td>31</td>\n",
       "      <td>31</td>\n",
       "    </tr>\n",
       "  </tbody>\n",
       "</table>\n",
       "</div>"
      ],
      "text/plain": [
       "     conc   y   n\n",
       "0   49.06   2  29\n",
       "1   52.99   7  30\n",
       "2   56.91   9  28\n",
       "3   60.84  14  27\n",
       "4   64.76  23  30\n",
       "5   68.69  29  31\n",
       "6   72.61  29  30\n",
       "7   76.54  29  29\n",
       "8   49.06   4  30\n",
       "9   52.99   6  30\n",
       "10  56.91   9  34\n",
       "11  60.84  14  29\n",
       "12  64.76  29  33\n",
       "13  68.69  24  28\n",
       "14  72.61  32  32\n",
       "15  76.54  31  31"
      ]
     },
     "execution_count": 255,
     "metadata": {},
     "output_type": "execute_result"
    }
   ],
   "source": [
    "# Lectura de datos\n",
    "data=pd.read_csv(\"SC1_11_beetles.txt\",sep=\";\")\n",
    "data"
   ]
  },
  {
   "cell_type": "markdown",
   "metadata": {},
   "source": [
    "#### 2.2.1 Estimación de parámetros"
   ]
  },
  {
   "cell_type": "code",
   "execution_count": 256,
   "metadata": {},
   "outputs": [],
   "source": [
    "# Preparación de variables\n",
    "y=np.array(data.y)\n",
    "y.shape=(len(y),1)\n",
    "\n",
    "m=np.array(data.n)\n",
    "m.shape=(len(m),1)\n",
    "\n",
    "X=data.conc\n",
    "X=np.stack((np.ones(len(y)),X,X*X)).T"
   ]
  },
  {
   "cell_type": "code",
   "execution_count": 257,
   "metadata": {},
   "outputs": [
    {
     "data": {
      "text/plain": [
       "array([[0.4262992],\n",
       "       [0.       ],\n",
       "       [0.       ]])"
      ]
     },
     "execution_count": 257,
     "metadata": {},
     "output_type": "execute_result"
    }
   ],
   "source": [
    "# Definición de un beta inicial\n",
    "beta_0 = np.array([math.log(sum(y) / sum(m - y)), 0.0, 0.0])\n",
    "beta_0.shape=(3,1)\n",
    "beta_0"
   ]
  },
  {
   "cell_type": "markdown",
   "metadata": {},
   "source": [
    "__Gradient Descent__"
   ]
  },
  {
   "cell_type": "code",
   "execution_count": 258,
   "metadata": {},
   "outputs": [
    {
     "name": "stdout",
     "output_type": "stream",
     "text": [
      "             0             1         2\n",
      "0     0.426299  0.000000e+00  0.000000\n",
      "1     0.426299  1.448237e-07  0.000018\n",
      "2     0.426299  2.353652e-07  0.000033\n",
      "3     0.426299  2.832492e-07  0.000044\n",
      "4     0.426299  2.973980e-07  0.000054\n",
      "5     0.426299  2.847043e-07  0.000061\n",
      "6     0.426299  2.505335e-07  0.000067\n",
      "7     0.426299  1.990954e-07  0.000072\n",
      "8     0.426299  1.337163e-07  0.000076\n",
      "9     0.426299  5.704209e-08  0.000080\n",
      "10    0.426299 -2.881079e-08  0.000083\n",
      "11    0.426299 -1.221410e-07  0.000085\n",
      "12    0.426299 -2.215752e-07  0.000087\n",
      "13    0.426299 -3.260007e-07  0.000088\n",
      "14    0.426299 -4.345138e-07  0.000089\n",
      "15    0.426299 -5.463781e-07  0.000091\n",
      "16    0.426299 -6.609925e-07  0.000091\n",
      "17    0.426299 -7.778659e-07  0.000092\n",
      "18    0.426299 -8.965957e-07  0.000093\n",
      "19    0.426299 -1.016852e-06  0.000093\n",
      "20    0.426299 -1.138365e-06  0.000093\n",
      "21    0.426299 -1.260911e-06  0.000094\n",
      "22    0.426299 -1.384308e-06  0.000094\n",
      "23    0.426299 -1.508406e-06  0.000094\n",
      "24    0.426299 -1.633081e-06  0.000094\n",
      "25    0.426299 -1.758231e-06  0.000095\n",
      "26    0.426299 -1.883774e-06  0.000095\n",
      "27    0.426299 -2.009639e-06  0.000095\n",
      "28    0.426299 -2.135770e-06  0.000095\n",
      "29    0.426299 -2.262120e-06  0.000095\n",
      "...        ...           ...       ...\n",
      "971   0.426295 -1.222078e-04  0.000097\n",
      "972   0.426295 -1.223351e-04  0.000097\n",
      "973   0.426295 -1.224624e-04  0.000097\n",
      "974   0.426295 -1.225897e-04  0.000097\n",
      "975   0.426295 -1.227170e-04  0.000097\n",
      "976   0.426295 -1.228443e-04  0.000097\n",
      "977   0.426295 -1.229716e-04  0.000097\n",
      "978   0.426295 -1.230989e-04  0.000097\n",
      "979   0.426295 -1.232262e-04  0.000097\n",
      "980   0.426295 -1.233534e-04  0.000097\n",
      "981   0.426295 -1.234807e-04  0.000097\n",
      "982   0.426295 -1.236080e-04  0.000097\n",
      "983   0.426295 -1.237353e-04  0.000097\n",
      "984   0.426295 -1.238626e-04  0.000097\n",
      "985   0.426295 -1.239899e-04  0.000097\n",
      "986   0.426295 -1.241172e-04  0.000097\n",
      "987   0.426295 -1.242445e-04  0.000097\n",
      "988   0.426295 -1.243718e-04  0.000097\n",
      "989   0.426295 -1.244991e-04  0.000097\n",
      "990   0.426295 -1.246264e-04  0.000097\n",
      "991   0.426295 -1.247537e-04  0.000097\n",
      "992   0.426295 -1.248809e-04  0.000097\n",
      "993   0.426295 -1.250082e-04  0.000097\n",
      "994   0.426295 -1.251355e-04  0.000097\n",
      "995   0.426295 -1.252628e-04  0.000097\n",
      "996   0.426295 -1.253901e-04  0.000097\n",
      "997   0.426295 -1.255174e-04  0.000097\n",
      "998   0.426295 -1.256447e-04  0.000097\n",
      "999   0.426295 -1.257720e-04  0.000097\n",
      "1000  0.426295 -1.258993e-04  0.000097\n",
      "\n",
      "[1001 rows x 3 columns]\n"
     ]
    },
    {
     "data": {
      "image/png": "[encoded data removed]",
      "text/plain": [
       "<matplotlib.figure.Figure at 0x291525a6b00>"
      ]
     },
     "metadata": {},
     "output_type": "display_data"
    }
   ],
   "source": [
    "# Estimación por gradient descent\n",
    "beta_gd2, costo_gd2 = grad_descent(y, X, beta_0, m=m, alpha=0.0000000001,epocs=1000)"
   ]
  },
  {
   "cell_type": "code",
   "execution_count": 259,
   "metadata": {},
   "outputs": [
    {
     "name": "stdout",
     "output_type": "stream",
     "text": [
      "-177.67705922683518\n"
     ]
    }
   ],
   "source": [
    "print(costo_gd2)"
   ]
  },
  {
   "cell_type": "code",
   "execution_count": 260,
   "metadata": {},
   "outputs": [
    {
     "data": {
      "text/plain": [
       "[]"
      ]
     },
     "execution_count": 260,
     "metadata": {},
     "output_type": "execute_result"
    },
    {
     "data": {
      "image/png": "[encoded data removed]",
      "text/plain": [
       "<matplotlib.figure.Figure at 0x29150b881d0>"
      ]
     },
     "metadata": {},
     "output_type": "display_data"
    }
   ],
   "source": [
    "# Gráficos\n",
    "p_est_gd = calc_p(X, beta_gd2)\n",
    "plt.plot(p_est_gd, label=\"p_est_gd\")\n",
    "plt.plot(y/m, label=\"p\")\n",
    "plt.legend()\n",
    "plt.plot()"
   ]
  },
  {
   "cell_type": "code",
   "execution_count": 261,
   "metadata": {},
   "outputs": [
    {
     "data": {
      "text/plain": [
       "array([1.79483308])"
      ]
     },
     "execution_count": 261,
     "metadata": {},
     "output_type": "execute_result"
    }
   ],
   "source": [
    "# Medida de Error\n",
    "sum((y/m-p_est_gd)**2)"
   ]
  },
  {
   "cell_type": "markdown",
   "metadata": {},
   "source": [
    "__Fisher Scoring__"
   ]
  },
  {
   "cell_type": "code",
   "execution_count": 262,
   "metadata": {},
   "outputs": [
    {
     "name": "stdout",
     "output_type": "stream",
     "text": [
      "           0         1         2\n",
      "0   0.426299  0.000000  0.000000\n",
      "1 -17.648684  0.424804 -0.002140\n",
      "2 -11.793852  0.178721  0.000312\n",
      "3   0.204747 -0.243160  0.003985\n",
      "4   6.735187 -0.472860  0.005988\n",
      "5   7.933284 -0.515344  0.006361\n",
      "6   7.968380 -0.516592  0.006372\n",
      "7   7.968410 -0.516593  0.006372\n"
     ]
    },
    {
     "data": {
      "image/png": "[encoded data removed]",
      "text/plain": [
       "<matplotlib.figure.Figure at 0x29152259160>"
      ]
     },
     "metadata": {},
     "output_type": "display_data"
    }
   ],
   "source": [
    "# Estimación\n",
    "beta_fs2, costo_fs2 = fisher_scoring(X, y, beta_0, m=m)"
   ]
  },
  {
   "cell_type": "code",
   "execution_count": 263,
   "metadata": {},
   "outputs": [
    {
     "name": "stdout",
     "output_type": "stream",
     "text": [
      "-482.27855522703067\n"
     ]
    }
   ],
   "source": [
    "# Costo\n",
    "print(costo_fs2)"
   ]
  },
  {
   "cell_type": "code",
   "execution_count": 264,
   "metadata": {},
   "outputs": [
    {
     "data": {
      "text/plain": [
       "[]"
      ]
     },
     "execution_count": 264,
     "metadata": {},
     "output_type": "execute_result"
    },
    {
     "data": {
      "image/png": "[encoded data removed]",
      "text/plain": [
       "<matplotlib.figure.Figure at 0x2915269d748>"
      ]
     },
     "metadata": {},
     "output_type": "display_data"
    }
   ],
   "source": [
    "# Graficos\n",
    "p_est = calc_p(X, beta_fs2)\n",
    "plt.plot(p_est,label=\"p_est\")\n",
    "plt.plot(y/m,label=\"p\")\n",
    "plt.legend()\n",
    "plt.plot()"
   ]
  },
  {
   "cell_type": "code",
   "execution_count": 265,
   "metadata": {},
   "outputs": [
    {
     "name": "stdout",
     "output_type": "stream",
     "text": [
      "[0.02685729]\n"
     ]
    }
   ],
   "source": [
    "# Medida de Error\n",
    "print(sum((y/m-p_est)**2))"
   ]
  },
  {
   "cell_type": "markdown",
   "metadata": {},
   "source": [
    "#### 2.2.2 Verificación de resultados"
   ]
  },
  {
   "cell_type": "markdown",
   "metadata": {},
   "source": [
    "A continuación verificamos si obtenemos estimadores próximos a los que se obtenienen usando una librería."
   ]
  },
  {
   "cell_type": "markdown",
   "metadata": {},
   "source": [
    "__StatsModels__"
   ]
  },
  {
   "cell_type": "code",
   "execution_count": 68,
   "metadata": {
    "scrolled": true
   },
   "outputs": [
    {
     "name": "stdout",
     "output_type": "stream",
     "text": [
      "                 Generalized Linear Model Regression Results                  \n",
      "==============================================================================\n",
      "Dep. Variable:           ['y1', 'y2']   No. Observations:                   16\n",
      "Model:                            GLM   Df Residuals:                       13\n",
      "Model Family:                Binomial   Df Model:                            2\n",
      "Link Function:                  logit   Scale:                             1.0\n",
      "Method:                          IRLS   Log-Likelihood:                -24.948\n",
      "Date:                Tue, 05 Jun 2018   Deviance:                       7.9273\n",
      "Time:                        07:30:49   Pearson chi2:                    0.243\n",
      "No. Iterations:                     7                                         \n",
      "==============================================================================\n",
      "                 coef    std err          z      P>|z|      [0.025      0.975]\n",
      "------------------------------------------------------------------------------\n",
      "const          7.9684     11.036      0.722      0.470     -13.662      29.599\n",
      "x1            -0.5166      0.374     -1.383      0.167      -1.249       0.216\n",
      "x2             0.0064      0.003      2.027      0.043       0.000       0.013\n",
      "==============================================================================\n"
     ]
    }
   ],
   "source": [
    "model = sm.GLM(np.stack((data.y,data.n-data.y)).T, X, family=sm.families.Binomial())\n",
    "result = model.fit()\n",
    "print(result.summary())"
   ]
  }
 ],
 "metadata": {
  "kernelspec": {
   "display_name": "Python 3",
   "language": "python",
   "name": "python3"
  },
  "language_info": {
   "codemirror_mode": {
    "name": "ipython",
    "version": 3
   },
   "file_extension": ".py",
   "mimetype": "text/x-python",
   "name": "python",
   "nbconvert_exporter": "python",
   "pygments_lexer": "ipython3",
   "version": "3.6.4"
  },
  "toc": {
   "base_numbering": 1,
   "nav_menu": {},
   "number_sections": false,
   "sideBar": true,
   "skip_h1_title": true,
   "title_cell": "Table of Contents",
   "title_sidebar": "Contents",
   "toc_cell": false,
   "toc_position": {
    "height": "calc(100% - 180px)",
    "left": "10px",
    "top": "150px",
    "width": "273px"
   },
   "toc_section_display": true,
   "toc_window_display": true
  }
 },
 "nbformat": 4,
 "nbformat_minor": 2
}
