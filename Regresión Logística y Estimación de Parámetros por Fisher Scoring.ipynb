{
 "cells": [
  {
   "cell_type": "markdown",
   "metadata": {},
   "source": [
    "# Regresión Logística y Estimación de Parámetros por Fisher Scoring"
   ]
  },
  {
   "cell_type": "markdown",
   "metadata": {},
   "source": [
    "__Por:__ _Ayar Yuman Paco Sanizo_\n",
    "\n",
    "__Club de Ciencia de Datos La Paz__"
   ]
  },
  {
   "cell_type": "markdown",
   "metadata": {},
   "source": [
    "## 1. Definicón del Modelo"
   ]
  },
  {
   "cell_type": "markdown",
   "metadata": {},
   "source": [
    "Una regresión logística es un caso particular de un tipo de modelos estadísticos más generales denominados modelos linesles generalizados (GLM). De esta forma, una regresión logística consiste de tres componentes:\n",
    "\n",
    "* Componente aleatorio\n",
    "* Componente sistémico\n",
    "* Función de enlace\n",
    "\n",
    "A continuación desglosamos cada uno para el caso de una regresión logística.\n",
    "\n",
    "__Componente Aleatorio__\n",
    "\n",
    "Este componente esta conformado por variables aleatorias que siguen una distribución bernoulli. Esto es,\n",
    "\n",
    "$$\n",
    "Y_i \\sim Ber(\\pi_i) \\quad ,i=1,...,n\n",
    "$$\n",
    "\n",
    "Estas variables representan las variables de respuesta del modelo.\n",
    "\n",
    "__Componente Sistémico__\n",
    "\n",
    "Este componenete consite en transformaciones lineales de la forma:\n",
    "\n",
    "$$\n",
    "z_i = \\theta_0 +\\theta_1 x_{i1}+\\theta_2 x_{i2}+...+\\theta_{p-1} x_{i(p-1)} = \\theta'\\mathbf{x}_i \\quad ,i=1,...,n\n",
    "$$\n",
    "\n",
    "Donde $\\theta$ es un vector de parámetros y $\\mathbf{x}_i$ es el vector predictor o regresor de la observación $i$ de acuerdo al modelo.\n",
    "\n",
    "__Función de Enlace__\n",
    "\n",
    "Por último la función de enlace que conecta el componente aleatorio con el componente sistémico en una regresión logística es el Logit. Este enlace es como sigue:\n",
    "\n",
    "$$\n",
    "Logit(u_i) = Logit(\\pi_i) = \\log \\big(\\frac{\\pi_i}{1-\\pi_i}\\big) = z_i = \\theta'\\mathbf{x}_i \\quad ,i=1,...,n\n",
    "$$\n",
    "\n",
    "Donde $u_i$ es el valor esperado de la variable aleatoria de respuesta $i$, es decir $u_i = \\mathrm{E}[Y_i]$ \n"
   ]
  },
  {
   "cell_type": "markdown",
   "metadata": {},
   "source": [
    "## 2. Estimación de parámetros"
   ]
  },
  {
   "cell_type": "markdown",
   "metadata": {},
   "source": [
    "__Función Sigmoide__\n",
    "\n",
    "Sea $Logit(\\pi_i)=z_i$, despejando $\\pi_i$, tenemos:\n",
    "\n",
    "$$\n",
    "\\pi_i = \\sigma(z_i) = \\frac{e^{z_i}}{1+e^{z_i}} = \\frac{1}{1+e^{-z_i}}\n",
    "$$\n",
    "\n",
    "Luego $\\sigma(z_i)$ se denomina función sigmoide.\n",
    "\n",
    "__Estimación por Máxima Verosimilitud__\n",
    "\n",
    "Notemos que tomando el componente aleatorio podemos obtener una función de verosimilitud. Esto es:\n",
    "\n",
    "$$\n",
    "L(\\pi_1,...\\pi_n) = \\prod_{i=1}^{n} L_i(\\pi_i) = \\prod_{i=1}^{n}\\pi_{i}^{y_i} (1-\\pi_i)^{1-y_i}\n",
    "$$\n",
    "\n",
    "Aplicando logaritmos y sustituyendo $l=Log(L)$, tenemos:\n",
    "\n",
    "$$\n",
    "\\begin{align}\n",
    "l(\\pi_1,...\\pi_n) &= \\sum_{i=1}^{n} l_i(\\pi_i) \\\\\n",
    "&= \\sum_{i=1}^{n} y_i \\log(\\pi_{i}) + (1-y_i) \\log (1-\\pi_i) \\\\\n",
    "\\end{align}\n",
    "$$\n",
    "\n",
    "Luego, cada $\\pi_i$ es función de $z_i=\\theta'\\mathbf{x}_i $. Entonces la función de verosimilitud $l(\\pi_1,...\\pi_n)$ es una función de $\\theta$, es decir:\n",
    "\n",
    "$$\n",
    "l(\\pi_1,...\\pi_n) = l(\\theta)\n",
    "$$\n",
    "\n",
    "De esta forma, podemos obtener un estimador de maxima verosimilitud para el vector $\\theta$. Esto es:\n",
    "\n",
    "$$\n",
    "\\DeclareMathOperator*{\\argmax}{argmax}\n",
    "\\hat \\theta = \\argmax_{\\theta} l(\\theta)\n",
    "$$\n",
    "\n",
    "Ahora, en \"machine learning\" normalmente hablamos de una función de costo que tratamos de minimizar. Para mantener esta idea definiremos una función $J(\\theta)$ definida como:\n",
    "\n",
    "$$\n",
    "J(\\theta) =  -l(\\theta)\n",
    "$$\n",
    "\n",
    "Luego, de forma análoga obtendremos el estimador de $\\theta$,\n",
    "\n",
    "$$\n",
    "\\DeclareMathOperator*{\\argmin}{argmin}\n",
    "\\hat \\theta = \\argmin_{\\theta} J(\\theta)\n",
    "$$"
   ]
  },
  {
   "cell_type": "markdown",
   "metadata": {},
   "source": [
    "## 3. Algoritmos de Estimación"
   ]
  },
  {
   "cell_type": "markdown",
   "metadata": {},
   "source": [
    "### 3.1 Gradient Descent"
   ]
  },
  {
   "cell_type": "markdown",
   "metadata": {},
   "source": [
    "El algoritmo de \"Gradient Descent\" es como sigue:\n",
    "\n",
    "   1. Inicializar $\\theta$ aleatoriamente\n",
    "   2. Definir $\\alpha$ y el número de iteraciones $epocs$\n",
    "   3. Para $k$ de $1$ a $epocs$:\n",
    "        * $\\theta := \\theta-\\alpha*\\frac{\\partial}{\\partial \\theta}J(\\theta)$\n",
    "        \n",
    "Luego, el único reto es obtener la primera derivada de $J(\\theta)$ respecto a $\\theta$.\n",
    "\n",
    "__Primera Derivada__\n",
    "\n",
    "Sea,\n",
    "$$\n",
    "\\begin{align}\n",
    "J(\\theta) &=\\sum_{i=1}^{n} J_i(\\theta) \\\\\n",
    "J(\\theta_0, ..., \\theta_{p-1}) &=\\sum_{i=1}^{n} J_i(\\theta_0, ..., \\theta_{p-1})\n",
    "\\end{align}\n",
    "$$\n",
    "\n",
    ",donde $J_i(\\theta) =  -l_i(\\theta)$. Derivando respecto a  $\\theta_j$, tenemos:\n",
    "\n",
    "$$\n",
    "\\begin{align}\n",
    "\\frac{\\partial J(\\theta)}{\\partial \\theta_j} = \\sum_{i=1}^{n} \\frac{\\partial J_i(\\theta)}{\\partial \\theta_j}\n",
    "\\end{align}\n",
    "$$\n",
    "\n",
    "Entonces, obtetangamos la derivada de $J_i(\\theta)$ respecto a $\\theta_j$,\n",
    "\n",
    "$$\n",
    "\\begin{align}\n",
    "\\frac{\\partial J_i(\\theta)}{\\partial \\theta_j} &= -\\frac{\\partial}{\\partial \\theta_j} \\big( y_i \\log(\\pi_{i}) + (1-y_i) \\log (1-\\pi_i)\\big) \\\\\n",
    "&= -\\frac{\\partial}{\\partial \\theta_j} \\big(y_i \\log \\big( \\frac{\\pi_{i}}{1-\\pi_i} \\big) + \\log (1-\\pi_i)\\big) \\\\\n",
    "&= -\\frac{\\partial}{\\partial \\theta_j} \\big( y_i \\theta'\\mathbf{x}_i + \\log (1-\\sigma(\\theta'\\mathbf{x}_i))\\big)\\\\\n",
    "&= -\\big[ y_i x_{ij} - \\frac{1}{1-\\sigma(\\theta'\\mathbf{x}_i)}\\frac{\\partial}{\\partial \\theta_j}\\sigma(\\theta'\\mathbf{x}_i)\\big]\n",
    "\\end{align}\n",
    "$$\n",
    "\n",
    "Ahora,\n",
    "\n",
    "$$\n",
    "\\begin{align}\n",
    "\\frac{\\partial \\sigma(\\theta'\\mathbf{x}_i)}{\\partial \\theta_j}&=\\frac{\\partial}{\\partial \\theta_j} \\Big(\\frac{1}{1+e^{-\\theta'\\mathbf{x}_i}}\\Big) \\\\\n",
    "&=\\frac{e^{-\\theta'\\mathbf{x}_i}}{(1+e^{-\\theta'\\mathbf{x}_i})^2}  x_{ij} \\\\\n",
    "&=\\big(1-\\sigma(\\theta'\\mathbf{x}_i)\\big)\\sigma(\\theta'\\mathbf{x}_i) x_{ij}\n",
    "\\end{align}\n",
    "$$\n",
    "\n",
    "Sustituyendo y simplificando, tenemos:\n",
    "\n",
    "$$\n",
    "\\frac{\\partial J_i(\\theta)}{\\partial \\theta_j} = -x_{ij} \\big( y_i  - \\sigma(\\theta'\\mathbf{x}_i) \\big)\n",
    "$$\n",
    "\n",
    "Luego,\n",
    "\n",
    "$$\n",
    "\\begin{align}\n",
    "\\frac{\\partial J(\\theta)}{\\partial \\theta_0} &= -\\sum_{i=1}^{n} x_{i0} \\big( y_i  - \\sigma(\\theta'\\mathbf{x}_i) \\big)\\\\\n",
    "\\frac{\\partial J(\\theta)}{\\partial \\theta_1} &= -\\sum_{i=1}^{n} x_{i1} \\big( y_i  - \\sigma(\\theta'\\mathbf{x}_i) \\big)\\\\\n",
    "&\\vdots\\\\\n",
    "\\frac{\\partial J(\\theta)}{\\partial \\theta_j} &= -\\sum_{i=1}^{n} x_{ij} \\big( y_i  - \\sigma(\\theta'\\mathbf{x}_i) \\big)\\\\\n",
    "&\\vdots\\\\\n",
    "\\frac{\\partial J(\\theta)}{\\partial \\theta_{p-1}} &= -\\sum_{i=1}^{n} x_{i{(p-1)}} \\big( y_i  - \\sigma(\\theta'\\mathbf{x}_i) \\big)\n",
    "\\end{align}\n",
    "$$\n",
    "\n",
    "Matricialmente,\n",
    "\n",
    "$$\n",
    "\\frac{\\partial J(\\theta)}{\\partial \\theta_0} = -\\mathbf{X}' \\big( \\mathbf{Y}  - \\sigma(\\mathbf{X}\\theta) \\big)\n",
    "$$"
   ]
  },
  {
   "cell_type": "markdown",
   "metadata": {},
   "source": [
    "### 3.2 Fisher Scoring"
   ]
  },
  {
   "cell_type": "markdown",
   "metadata": {},
   "source": [
    "El método optimización de Fisher Scoring es una variante del método Newton Raphson. De esta forma, primero entendamos la idea principal del método Newton Raphson.\n",
    "\n",
    "__Newton Raphson__\n",
    "\n",
    "Sea $l(\\theta)$ una función que deseamos optimizar respecto al escalar $\\theta$. Aplicando una expanción de Taylor de segundo orden cerca de un punto $\\theta_0$, tenemos:\n",
    "\n",
    "$$\n",
    "l(\\theta) \\approx \n",
    "l(\\theta_0) +(\\theta-\\theta_0) \\frac{\\partial l(\\theta)}{\\partial \\theta}\\Bigr|_{\\substack{\\theta=\\theta_0}}\n",
    "+ \\frac{1}{2} (\\theta-\\theta_0)^2 \\frac{\\partial^2 l(\\theta)}{\\partial \\theta^2}\\Bigr|_{\\substack{\\theta=\\theta_0}}\n",
    "$$\n",
    "\n",
    "Derivando la aproximación respecto a $\\theta$, igualando a cero y denominando la solución $\\theta_1$,\n",
    "\n",
    "$$\n",
    "\\frac{\\partial l(\\theta)}{\\partial \\theta} \\Bigr|_{\\substack{\\theta=\\theta_0}}\n",
    "+ (\\theta_1-\\theta_0) \\frac{\\partial^2 l(\\theta)}{\\partial \\theta^2} \\Bigr|_{\\substack{\\theta=\\theta_0}} = 0\n",
    "$$\n",
    "\n",
    "Despejando $\\theta_1$,\n",
    "\n",
    "$$\n",
    "\\theta_1 = \\theta_0 + \\Bigr[-\\frac{\\partial^2 l(\\theta)}{\\partial \\theta^2}\\Bigr|_{\\substack{\\theta=\\theta_0}} \\Bigr]^{-1} \\frac{\\partial l(\\theta)}{\\partial \\theta}\\Bigr|_{\\substack{\\theta=\\theta_0}}\n",
    "$$\n",
    "\n",
    "Repitiendo este proceso varias veces tenemos nuevos valores de $\\theta_{n+1}$ que optimizan mejor a la función $l(.)$. Luego, en general tenemos la siguiente ecuación de actualización:\n",
    "\n",
    "$$\n",
    "\\theta_{n+1} = \\theta_{n} + \\Bigr[-\\frac{\\partial^2 l(\\theta)}{\\partial \\theta^2}\\Bigr|_{\\substack{\\theta=\\theta_{n}}} \\Bigr]^{-1} \\frac{\\partial l(\\theta)}{\\partial \\theta}\\Bigr|_{\\substack{\\theta=\\theta_{n}}}\n",
    "$$\n",
    "\n",
    "De forma análoga, si $\\theta$ es un venctor, tenemos:\n",
    "\n",
    "$$\n",
    "\\theta_{n+1} = \\theta_{n}\n",
    "+ \\Bigr[-\\frac{\\partial^2 l(\\theta)}{\\partial \\theta \\partial \\theta'}\\Bigr|_{\\substack{\\theta=\\theta_{n}}} \\Bigr]^{-1} \\frac{\\partial l(\\theta)}{\\partial \\theta}\\Bigr|_{\\substack{\\theta=\\theta_{n}}}\n",
    "$$\n",
    "\n",
    "Ahora, el método de Newton Raphson tiene dos inconvenientes importantes:\n",
    "\n",
    "* Al maximizar o minimizar no podemos asegurar que $\\Bigr[-\\frac{\\partial^2 l}{\\partial \\theta \\partial \\theta'}\\Bigr|_{\\substack{\\theta=\\theta_{n}}} \\Bigr]$ sea definida positiva o negativa, respectivamente.\n",
    "* Calcular $\\Bigr[-\\frac{\\partial^2 l(\\theta)}{\\partial \\theta \\partial \\theta'}\\Bigr|_{\\substack{\\theta=\\theta_{n}}} \\Bigr]^{-1}$ es costoso computacionalmente.\n",
    "\n",
    "Por estos motivos surge la necesidad de plantear estrategias diferentes. \n",
    "\n",
    "__Fisher Scoring__\n",
    "\n",
    "Esta variante del método Newton Raphson considera la siguiente ecuación de actualización:\n",
    "\n",
    "$$\n",
    "\\theta_{n+1} = \\theta_{n}\n",
    "+ \\mathrm{E} \\Bigr[-\\frac{\\partial^2 l(\\theta)}{\\partial \\theta \\partial \\theta'}\\Bigr|_{\\substack{\\theta=\\theta_{n}}} \\Bigr]^{-1} \\frac{\\partial l(\\theta)}{\\partial \\theta}\\Bigr|_{\\substack{\\theta=\\theta_{n}}}\n",
    "$$\n",
    "\n",
    "Ahora, notemos lo siguiente:\n",
    "\n",
    "* $I(\\theta_n) = \\mathrm{E} \\Bigr[-\\frac{\\partial^2 l(\\theta)}{\\partial \\theta \\partial \\theta'}\\Bigr|_{\\substack{\\theta=\\theta_{n}}} \\Bigr]$ (Información de Fisher)\n",
    "* $S(\\theta_n) = \\frac{\\partial l(\\theta)}{\\partial \\theta}\\Bigr|_{\\substack{\\theta=\\theta_{n}}}$ (Función Score)\n",
    "\n",
    "De esta forma, la ecuación de actualización queda como:\n",
    "\n",
    "$$\n",
    "\\theta_{n+1} = \\theta_{n} + I(\\theta_n)^{-1} S(\\theta_n)\n",
    "$$\n",
    "\n",
    "Las ventajas de este método son:\n",
    "\n",
    "* Podemos asegurar que $I(\\theta_n)$ es definida positiva al maximizar o negativa al minimizar.\n",
    "* Siempre que la función de distribución asociada al componente aleatorio pertenesca a la familia exponencial podemos aprovechar que $I(\\theta) = \\mathrm{E} \\Bigr[-\\frac{\\partial^2 l(\\theta)}{\\partial \\theta \\partial \\theta'} \\Bigr] = \\mathrm{E} \\Bigr[\\Big(\\frac{\\partial l(\\theta)}{\\partial \\theta}\\Big) \\Big(\\frac{\\partial l(\\theta)}{\\partial \\theta}\\Big)'\\Bigr]$. Luego, podemos usar la aproximación $I(\\theta)_{aprox} = \\frac{1}{n}\\sum_{i=1}^{n} \\Big(\\frac{\\partial l(\\theta)}{\\partial \\theta}\\Big) \\Big(\\frac{\\partial l(\\theta)}{\\partial \\theta}\\Big)'$ evitando así el cálculo de una segunda derivada. Este enfoque suele denominarse Fisher Scoring Empírico.\n",
    "\n",
    "Finalmente, en una regresión logistica puede demostrarse que:\n",
    "\n",
    "$$\n",
    "\\mathrm{E} \\Bigr[-\\frac{\\partial^2 l(\\theta)}{\\partial \\theta \\partial \\theta'}\\Bigr|_{\\substack{\\theta=\\theta_{n}}} \\Bigr]=\\Bigr[-\\frac{\\partial^2 l(\\theta)}{\\partial \\theta \\partial \\theta'}\\Bigr|_{\\substack{\\theta=\\theta_{n}}} \\Bigr]\n",
    "$$\n",
    "\n",
    "Por tanto, en este caso, el método Fisher Scoring es equivalente al método Newton Raphson. Luego, para implementar este método solo necesitamos obtener la expresión de la segunda derivada.\n",
    "\n",
    "__Segunda Derivada__\n",
    "\n",
    "Recordemos que estamos considerando la función de costo $J(\\theta)=-l(\\theta)$.\n",
    "\n",
    "La segunda derivada, el hessiano, es:\n",
    "\n",
    "$$\n",
    "\\frac{\\partial^2 J(\\theta)}{\\partial \\theta \\partial \\theta'}=\\Bigr[\\frac{\\partial^2 J(\\theta)}{\\partial \\theta_j \\partial \\theta_k} \\Bigr] \\quad,\\quad k,j=0,...,(p-1)\n",
    "$$\n",
    "\n",
    "Esto es, una matriz compuesta por los elementos $\\frac{\\partial^2 J(\\theta)}{\\partial \\theta_j \\partial \\theta_k}$. Luego,\n",
    "\n",
    "$$\n",
    "\\begin{align}\n",
    "\\frac{\\partial^2 J(\\theta)}{\\partial \\theta_j \\partial \\theta_k}&=\n",
    "\\frac{\\partial}{\\partial \\theta_k}\\frac{\\partial J(\\theta)}{\\partial \\theta_j}\\\\\n",
    "&=\\frac{\\partial}{\\partial \\theta_k}\\Big(-\\sum_{i=1}^{n} x_{ij} \\big( y_i  - \\sigma(\\theta'\\mathbf{x}_i) \\big)\\Big)\\\\\n",
    "&=\\sum_{i=1}^{n} x_{ij}\\frac{\\partial}{\\partial \\theta_k} \\sigma(\\theta'\\mathbf{x}_i)\\\\\n",
    "&=\\sum_{i=1}^{n} x_{ij}\\big(1-\\sigma(\\theta'\\mathbf{x}_i)\\big)\\sigma(\\theta'\\mathbf{x}_i) x_{ik}\\\\\n",
    "&=\\sum_{i=1}^{n} x_{ij}v_i(\\theta) x_{ik}\n",
    "\\end{align}\n",
    "$$\n",
    "\n",
    "Donde,\n",
    "\n",
    "$$\n",
    "v_i(\\theta) = v(\\theta'\\mathbf{x}_i) = \\big(1-\\sigma(\\theta'\\mathbf{x}_i)\\big)\\sigma(\\theta'\\mathbf{x}_i)\n",
    "$$\n",
    "\n",
    "Luego,\n",
    "\n",
    "$$\n",
    "\\frac{\\partial^2 J(\\theta)}{\\partial \\theta \\partial \\theta'}=\\Bigr[\\sum_{i=1}^{n} x_{ij}v_i(\\theta) x_{ik}\\Bigr]\n",
    "$$\n",
    "\n",
    "Matricialmebte,\n",
    "\n",
    "$$\n",
    "\\frac{\\partial^2 J(\\theta)}{\\partial \\theta \\partial \\theta'}=\\mathbf{X}'\\mathbf{V}(\\theta)\\mathbf{X}\n",
    "$$\n",
    "\n",
    "donde,\n",
    "\n",
    "$$\n",
    "\\mathbf{V}(\\theta)= diag \\big( v_1(\\theta),...,v_n(\\theta) \\big) \n",
    "$$"
   ]
  },
  {
   "cell_type": "markdown",
   "metadata": {},
   "source": [
    "## 4. Implementación de Algoritmos de Estimación"
   ]
  },
  {
   "cell_type": "code",
   "execution_count": 327,
   "metadata": {},
   "outputs": [],
   "source": [
    "# Importar librerias\n",
    "\n",
    "# Librerias para la implementación\n",
    "import numpy as np\n",
    "import numpy.linalg as LA\n",
    "import pandas as pd\n",
    "import math\n",
    "import matplotlib.pyplot as plt\n",
    "from sklearn.metrics import confusion_matrix\n",
    "\n",
    "# Librerias para verificar resultados\n",
    "import statsmodels.api as sm\n",
    "import statsmodels.formula.api as smf\n",
    "from sklearn.linear_model import LogisticRegression\n",
    "from sklearn.preprocessing import scale"
   ]
  },
  {
   "cell_type": "markdown",
   "metadata": {},
   "source": [
    "### 4.1 Funciones Auxiliares"
   ]
  },
  {
   "cell_type": "code",
   "execution_count": 222,
   "metadata": {},
   "outputs": [],
   "source": [
    "# Función sigmoide para calcular el estimador de p\n",
    "def sigmoid(X, theta):\n",
    "    m = X.dot(theta)\n",
    "    p = 1/(1+np.exp(-m))\n",
    "    return(p)"
   ]
  },
  {
   "cell_type": "code",
   "execution_count": 287,
   "metadata": {},
   "outputs": [],
   "source": [
    "# Función de costo (-logverosimilitud)\n",
    "def J(y, X, theta, m):\n",
    "    p = sigmoid(X, theta)\n",
    "    J = -(y.T.dot(np.log(p))+(m-y).T.dot(np.log(1-p)))\n",
    "    return(J)"
   ]
  },
  {
   "cell_type": "code",
   "execution_count": 224,
   "metadata": {},
   "outputs": [],
   "source": [
    "# Función gradiente\n",
    "def gradient(y, X, theta, m):\n",
    "    p = sigmoid(X, theta)\n",
    "    grad = -X.T.dot(y - m*p)\n",
    "    return(grad)"
   ]
  },
  {
   "cell_type": "code",
   "execution_count": 243,
   "metadata": {},
   "outputs": [],
   "source": [
    "# Información de Fisher\n",
    "def ifisher(y, X, theta, m):\n",
    "    p = sigmoid(X, theta)\n",
    "    V = (m*p * (1 - p)).T\n",
    "    V = np.diag(V[0])\n",
    "    IF = X.T.dot(V).dot(X)\n",
    "    return(IF)"
   ]
  },
  {
   "cell_type": "markdown",
   "metadata": {},
   "source": [
    "### 4.2 Gradient Descent"
   ]
  },
  {
   "cell_type": "code",
   "execution_count": 226,
   "metadata": {},
   "outputs": [],
   "source": [
    "# Gradient descent\n",
    "def grad_descent(y, X, theta, m=1, alpha=0.01, epocs=1000, eps=1e-7):\n",
    "    \n",
    "    gradiente = gradient(y, X, theta, m)\n",
    "    \n",
    "    # Definir historial de costos y thetas\n",
    "    costos = []\n",
    "    costo = float(J(y, X, theta, m))\n",
    "    costos.append(costo)\n",
    "    \n",
    "    theta_hist = pd.DataFrame(theta.T)\n",
    "    \n",
    "    # Contador\n",
    "    i=0\n",
    "    \n",
    "    while(LA.norm(gradiente)>eps and i<epocs):\n",
    "        \n",
    "        # Actualizar beta\n",
    "        theta = theta - alpha*gradiente\n",
    "        \n",
    "        # Calcular gradiente\n",
    "        gradiente = gradient(y, X, theta, m)\n",
    "        \n",
    "        # Actualizar historial\n",
    "        costo = float(J(y, X, theta, m))\n",
    "        costos.append(costo)\n",
    "        theta_hist = theta_hist.append(pd.DataFrame(theta.T),ignore_index=True) \n",
    "        \n",
    "        # Incrementar contador\n",
    "        i=i+1\n",
    "    \n",
    "    # Mostrar historial de betas\n",
    "    print(theta_hist)\n",
    "    \n",
    "    # Graficar evolución del costo\n",
    "    plt.plot(costos)\n",
    "    \n",
    "    return(theta, costo)"
   ]
  },
  {
   "cell_type": "markdown",
   "metadata": {},
   "source": [
    "### 4.3 Fisher Scoring"
   ]
  },
  {
   "cell_type": "code",
   "execution_count": 321,
   "metadata": {},
   "outputs": [],
   "source": [
    "# Fisher Scoring\n",
    "def fisher_scoring(y, X, theta, m=1, eps1=1e-7, maxit=100):\n",
    "    \n",
    "    # Calcular función Score\n",
    "    score = gradient(y, X, theta, m)\n",
    "    \n",
    "    # Calcular Información de Fisher\n",
    "    I =  ifisher(y, X, theta, m)\n",
    "    \n",
    "    # Definir historial de thetas\n",
    "    theta_hist = pd.DataFrame(theta.T)\n",
    "    \n",
    "    # Definir historial de costos\n",
    "    costos= []\n",
    "    costo = float(J(y, X, theta, m))\n",
    "    costos.append(costo)\n",
    "    \n",
    "    # Contador\n",
    "    i=1\n",
    "    \n",
    "    # Bucle de optimización\n",
    "    while(LA.norm(score)>eps1 and i<maxit):\n",
    "        \n",
    "        # Actualizar beta\n",
    "        theta = theta - LA.inv(I).dot(score)\n",
    "        \n",
    "        # Calcular función Score\n",
    "        score = gradient(y, X, theta, m)\n",
    "        \n",
    "        # Calcular Información de Fisher\n",
    "        I =  ifisher(y, X, theta, m)\n",
    "        \n",
    "        # Actualizar historial\n",
    "        theta_hist=theta_hist.append(pd.DataFrame(theta.T),ignore_index=True) \n",
    "        \n",
    "        costo = float(J(y, X, theta, m))\n",
    "        costos.append(costo)  \n",
    "        \n",
    "        # Incrementar contador\n",
    "        i=i+1\n",
    "    \n",
    "    # Mostrar historial de betas\n",
    "    print(theta_hist)    \n",
    "    \n",
    "    # Graficar evolución del costo\n",
    "    plt.plot(costos)\n",
    "    \n",
    "    # Retornar el beta óptimo y el costo alcanzado\n",
    "    return(theta, costo)"
   ]
  },
  {
   "cell_type": "markdown",
   "metadata": {},
   "source": [
    "## 5. Ejemplos numéricos"
   ]
  },
  {
   "cell_type": "markdown",
   "metadata": {},
   "source": [
    "Una vez definidos los algoritmos procedemos a verificiar si podemos obtener estimadores adecuadamente. A continuación se consideran datos donde las varaibles de respuesta que siguen distribuciones Bernoulli y distribuciones Binomiales."
   ]
  },
  {
   "cell_type": "markdown",
   "metadata": {},
   "source": [
    "### 5.1 Datos con respuestas Bernoulli"
   ]
  },
  {
   "cell_type": "markdown",
   "metadata": {},
   "source": [
    "En el siguiente conjunto de datos de chats de parejas de amigos tenemos:\n",
    "\n",
    "__Variable de respuesta__\n",
    "\n",
    "* $LeGusta_i$: Indicatriz de que en la pareja $i$ a la chica le gusta el chico. \n",
    "\n",
    "__Variables predictoras__\n",
    "\n",
    "* $EnVisto_i$: Indicatriz de que en la pareja $i$ la chica dejo en visto al chico.\n",
    "* $PromPalabras_i$: Promedio de palabras que la chica escribe al chico por semana en la pareja $i$."
   ]
  },
  {
   "cell_type": "code",
   "execution_count": 414,
   "metadata": {},
   "outputs": [
    {
     "data": {
      "text/html": [
       "<div>\n",
       "<style scoped>\n",
       "    .dataframe tbody tr th:only-of-type {\n",
       "        vertical-align: middle;\n",
       "    }\n",
       "\n",
       "    .dataframe tbody tr th {\n",
       "        vertical-align: top;\n",
       "    }\n",
       "\n",
       "    .dataframe thead th {\n",
       "        text-align: right;\n",
       "    }\n",
       "</style>\n",
       "<table border=\"1\" class=\"dataframe\">\n",
       "  <thead>\n",
       "    <tr style=\"text-align: right;\">\n",
       "      <th></th>\n",
       "      <th>LeGusta</th>\n",
       "      <th>EnVisto</th>\n",
       "      <th>PromPalabras</th>\n",
       "    </tr>\n",
       "  </thead>\n",
       "  <tbody>\n",
       "    <tr>\n",
       "      <th>0</th>\n",
       "      <td>1</td>\n",
       "      <td>1</td>\n",
       "      <td>70</td>\n",
       "    </tr>\n",
       "    <tr>\n",
       "      <th>1</th>\n",
       "      <td>1</td>\n",
       "      <td>1</td>\n",
       "      <td>80</td>\n",
       "    </tr>\n",
       "    <tr>\n",
       "      <th>2</th>\n",
       "      <td>1</td>\n",
       "      <td>1</td>\n",
       "      <td>50</td>\n",
       "    </tr>\n",
       "    <tr>\n",
       "      <th>3</th>\n",
       "      <td>1</td>\n",
       "      <td>0</td>\n",
       "      <td>60</td>\n",
       "    </tr>\n",
       "    <tr>\n",
       "      <th>4</th>\n",
       "      <td>1</td>\n",
       "      <td>0</td>\n",
       "      <td>40</td>\n",
       "    </tr>\n",
       "    <tr>\n",
       "      <th>5</th>\n",
       "      <td>1</td>\n",
       "      <td>0</td>\n",
       "      <td>65</td>\n",
       "    </tr>\n",
       "    <tr>\n",
       "      <th>6</th>\n",
       "      <td>1</td>\n",
       "      <td>0</td>\n",
       "      <td>75</td>\n",
       "    </tr>\n",
       "    <tr>\n",
       "      <th>7</th>\n",
       "      <td>1</td>\n",
       "      <td>0</td>\n",
       "      <td>80</td>\n",
       "    </tr>\n",
       "    <tr>\n",
       "      <th>8</th>\n",
       "      <td>1</td>\n",
       "      <td>0</td>\n",
       "      <td>70</td>\n",
       "    </tr>\n",
       "    <tr>\n",
       "      <th>9</th>\n",
       "      <td>1</td>\n",
       "      <td>0</td>\n",
       "      <td>60</td>\n",
       "    </tr>\n",
       "    <tr>\n",
       "      <th>10</th>\n",
       "      <td>0</td>\n",
       "      <td>1</td>\n",
       "      <td>65</td>\n",
       "    </tr>\n",
       "    <tr>\n",
       "      <th>11</th>\n",
       "      <td>0</td>\n",
       "      <td>1</td>\n",
       "      <td>50</td>\n",
       "    </tr>\n",
       "    <tr>\n",
       "      <th>12</th>\n",
       "      <td>0</td>\n",
       "      <td>1</td>\n",
       "      <td>45</td>\n",
       "    </tr>\n",
       "    <tr>\n",
       "      <th>13</th>\n",
       "      <td>0</td>\n",
       "      <td>1</td>\n",
       "      <td>35</td>\n",
       "    </tr>\n",
       "    <tr>\n",
       "      <th>14</th>\n",
       "      <td>0</td>\n",
       "      <td>1</td>\n",
       "      <td>40</td>\n",
       "    </tr>\n",
       "    <tr>\n",
       "      <th>15</th>\n",
       "      <td>0</td>\n",
       "      <td>1</td>\n",
       "      <td>50</td>\n",
       "    </tr>\n",
       "    <tr>\n",
       "      <th>16</th>\n",
       "      <td>0</td>\n",
       "      <td>0</td>\n",
       "      <td>55</td>\n",
       "    </tr>\n",
       "    <tr>\n",
       "      <th>17</th>\n",
       "      <td>0</td>\n",
       "      <td>0</td>\n",
       "      <td>45</td>\n",
       "    </tr>\n",
       "    <tr>\n",
       "      <th>18</th>\n",
       "      <td>0</td>\n",
       "      <td>0</td>\n",
       "      <td>50</td>\n",
       "    </tr>\n",
       "    <tr>\n",
       "      <th>19</th>\n",
       "      <td>0</td>\n",
       "      <td>0</td>\n",
       "      <td>60</td>\n",
       "    </tr>\n",
       "  </tbody>\n",
       "</table>\n",
       "</div>"
      ],
      "text/plain": [
       "    LeGusta  EnVisto  PromPalabras\n",
       "0         1        1            70\n",
       "1         1        1            80\n",
       "2         1        1            50\n",
       "3         1        0            60\n",
       "4         1        0            40\n",
       "5         1        0            65\n",
       "6         1        0            75\n",
       "7         1        0            80\n",
       "8         1        0            70\n",
       "9         1        0            60\n",
       "10        0        1            65\n",
       "11        0        1            50\n",
       "12        0        1            45\n",
       "13        0        1            35\n",
       "14        0        1            40\n",
       "15        0        1            50\n",
       "16        0        0            55\n",
       "17        0        0            45\n",
       "18        0        0            50\n",
       "19        0        0            60"
      ]
     },
     "execution_count": 414,
     "metadata": {},
     "output_type": "execute_result"
    }
   ],
   "source": [
    "# Lectura de datos\n",
    "data = pd.DataFrame(np.matrix([[1,1,1,1,1,1,1,1,1,1,0,0,0,0,0,0,0,0,0,0],\n",
    "                               [1,1,1,0,0,0,0,0,0,0,1,1,1,1,1,1,0,0,0,0],\n",
    "                               [70,80,50,60,40,65,75,80,70,60,65,50,45,35,40,50,55,45,50,60]]).T,\n",
    "                    columns=['LeGusta','EnVisto','PromPalabras'])\n",
    "data"
   ]
  },
  {
   "cell_type": "markdown",
   "metadata": {},
   "source": [
    "#### 5.1.1 Estimación de parámetros"
   ]
  },
  {
   "cell_type": "code",
   "execution_count": 393,
   "metadata": {},
   "outputs": [],
   "source": [
    "# Preparación de variables\n",
    "y =np.array(data['LeGusta'])\n",
    "y.shape = (len(y),1)\n",
    "\n",
    "x1 = np.array(data['EnVisto'])\n",
    "x2 = np.array(data['PromPalabras'])\n",
    "\n",
    "X = np.stack((np.ones(len(y)),x1,x2)).T"
   ]
  },
  {
   "cell_type": "code",
   "execution_count": 394,
   "metadata": {},
   "outputs": [
    {
     "data": {
      "text/plain": [
       "array([[0.],\n",
       "       [0.],\n",
       "       [0.]])"
      ]
     },
     "execution_count": 394,
     "metadata": {},
     "output_type": "execute_result"
    }
   ],
   "source": [
    "# Definición de un theta inicial\n",
    "theta_0 = np.array([math.log(sum(y) / sum(1 - y)), 0.0, 0.0])\n",
    "theta_0.shape=(3,1)\n",
    "theta_0"
   ]
  },
  {
   "cell_type": "markdown",
   "metadata": {},
   "source": [
    "__Gradient Descent__"
   ]
  },
  {
   "cell_type": "code",
   "execution_count": 395,
   "metadata": {},
   "outputs": [
    {
     "name": "stdout",
     "output_type": "stream",
     "text": [
      "                 0         1         2\n",
      "0     0.000000e+00  0.000000  0.000000\n",
      "1     0.000000e+00 -0.000002  0.000077\n",
      "2    -2.218096e-08 -0.000003  0.000154\n",
      "3    -6.616001e-08 -0.000005  0.000229\n",
      "4    -1.315607e-07 -0.000006  0.000302\n",
      "5    -2.180128e-07 -0.000008  0.000374\n",
      "6    -3.251523e-07 -0.000009  0.000445\n",
      "7    -4.526214e-07 -0.000011  0.000515\n",
      "8    -6.000684e-07 -0.000012  0.000584\n",
      "9    -7.671472e-07 -0.000014  0.000651\n",
      "10   -9.535180e-07 -0.000015  0.000718\n",
      "11   -1.158846e-06 -0.000017  0.000783\n",
      "12   -1.382804e-06 -0.000019  0.000847\n",
      "13   -1.625068e-06 -0.000020  0.000910\n",
      "14   -1.885321e-06 -0.000022  0.000971\n",
      "15   -2.163250e-06 -0.000023  0.001032\n",
      "16   -2.458550e-06 -0.000025  0.001092\n",
      "17   -2.770919e-06 -0.000027  0.001151\n",
      "18   -3.100061e-06 -0.000028  0.001208\n",
      "19   -3.445684e-06 -0.000030  0.001265\n",
      "20   -3.807503e-06 -0.000032  0.001321\n",
      "21   -4.185237e-06 -0.000033  0.001375\n",
      "22   -4.578609e-06 -0.000035  0.001429\n",
      "23   -4.987348e-06 -0.000037  0.001482\n",
      "24   -5.411187e-06 -0.000038  0.001534\n",
      "25   -5.849864e-06 -0.000040  0.001585\n",
      "26   -6.303122e-06 -0.000042  0.001635\n",
      "27   -6.770707e-06 -0.000043  0.001685\n",
      "28   -7.252372e-06 -0.000045  0.001733\n",
      "29   -7.747871e-06 -0.000047  0.001781\n",
      "...            ...       ...       ...\n",
      "971  -1.173838e-03 -0.001953  0.004557\n",
      "972  -1.175124e-03 -0.001955  0.004557\n",
      "973  -1.176410e-03 -0.001957  0.004557\n",
      "974  -1.177696e-03 -0.001959  0.004557\n",
      "975  -1.178982e-03 -0.001961  0.004557\n",
      "976  -1.180268e-03 -0.001963  0.004557\n",
      "977  -1.181554e-03 -0.001965  0.004557\n",
      "978  -1.182840e-03 -0.001967  0.004557\n",
      "979  -1.184126e-03 -0.001969  0.004557\n",
      "980  -1.185412e-03 -0.001971  0.004558\n",
      "981  -1.186698e-03 -0.001973  0.004558\n",
      "982  -1.187983e-03 -0.001975  0.004558\n",
      "983  -1.189269e-03 -0.001977  0.004558\n",
      "984  -1.190555e-03 -0.001979  0.004558\n",
      "985  -1.191841e-03 -0.001981  0.004558\n",
      "986  -1.193127e-03 -0.001983  0.004558\n",
      "987  -1.194413e-03 -0.001985  0.004558\n",
      "988  -1.195699e-03 -0.001987  0.004558\n",
      "989  -1.196985e-03 -0.001989  0.004558\n",
      "990  -1.198271e-03 -0.001991  0.004558\n",
      "991  -1.199557e-03 -0.001994  0.004558\n",
      "992  -1.200842e-03 -0.001996  0.004558\n",
      "993  -1.202128e-03 -0.001998  0.004558\n",
      "994  -1.203414e-03 -0.002000  0.004558\n",
      "995  -1.204700e-03 -0.002002  0.004558\n",
      "996  -1.205986e-03 -0.002004  0.004558\n",
      "997  -1.207272e-03 -0.002006  0.004558\n",
      "998  -1.208558e-03 -0.002008  0.004558\n",
      "999  -1.209844e-03 -0.002010  0.004558\n",
      "1000 -1.211130e-03 -0.002012  0.004558\n",
      "\n",
      "[1001 rows x 3 columns]\n"
     ]
    },
    {
     "data": {
      "image/png": "[encoded data removed]",
      "text/plain": [
       "<matplotlib.figure.Figure at 0x1a464ef9ac8>"
      ]
     },
     "metadata": {},
     "output_type": "display_data"
    }
   ],
   "source": [
    "# Estimación por gradient descent\n",
    "theta_gd, costo_gd = grad_descent(y, X, theta_0, alpha=0.000001,epocs=1000)"
   ]
  },
  {
   "cell_type": "code",
   "execution_count": 396,
   "metadata": {},
   "outputs": [
    {
     "name": "stdout",
     "output_type": "stream",
     "text": [
      "13.682504886000475\n"
     ]
    }
   ],
   "source": [
    "# Costo\n",
    "print(costo_gd)"
   ]
  },
  {
   "cell_type": "code",
   "execution_count": 397,
   "metadata": {},
   "outputs": [
    {
     "data": {
      "text/plain": [
       "array([[ 1.28588576],\n",
       "       [ 2.04221764],\n",
       "       [-0.03579596]])"
      ]
     },
     "execution_count": 397,
     "metadata": {},
     "output_type": "execute_result"
    }
   ],
   "source": [
    "# Gradiente\n",
    "gradient(y, X, theta_gd, 1)"
   ]
  },
  {
   "cell_type": "code",
   "execution_count": 398,
   "metadata": {},
   "outputs": [
    {
     "name": "stdout",
     "output_type": "stream",
     "text": [
      "[[ 0 10]\n",
      " [ 0 10]]\n"
     ]
    }
   ],
   "source": [
    "# Matriz de confusión\n",
    "cm_gd = confusion_matrix(y, np.round(sigmoid(X, beta_gd),0))\n",
    "print(cm_gd)"
   ]
  },
  {
   "cell_type": "code",
   "execution_count": 399,
   "metadata": {},
   "outputs": [
    {
     "data": {
      "text/plain": [
       "0.5"
      ]
     },
     "execution_count": 399,
     "metadata": {},
     "output_type": "execute_result"
    }
   ],
   "source": [
    "# Medida de error\n",
    "(cm_gd[0,0]+cm_gd[1,1])/y.size"
   ]
  },
  {
   "cell_type": "markdown",
   "metadata": {},
   "source": [
    "__Fisher Scoring__"
   ]
  },
  {
   "cell_type": "code",
   "execution_count": 400,
   "metadata": {},
   "outputs": [
    {
     "name": "stdout",
     "output_type": "stream",
     "text": [
      "          0         1         2\n",
      "0  0.000000  0.000000  0.000000\n",
      "1 -4.518010 -0.696398  0.084391\n",
      "2 -6.021025 -0.959954  0.112636\n",
      "3 -6.349819 -1.021373  0.118791\n",
      "4 -6.363447 -1.024101  0.119044\n",
      "5 -6.363470 -1.024106  0.119045\n"
     ]
    },
    {
     "data": {
      "image/png": "[encoded data removed]",
      "text/plain": [
       "<matplotlib.figure.Figure at 0x1a463801fd0>"
      ]
     },
     "metadata": {},
     "output_type": "display_data"
    }
   ],
   "source": [
    "# Estimación por fisher scoring\n",
    "theta_fs, costo_fs = fisher_scoring(y, X, theta_0)"
   ]
  },
  {
   "cell_type": "code",
   "execution_count": 401,
   "metadata": {},
   "outputs": [
    {
     "name": "stdout",
     "output_type": "stream",
     "text": [
      "9.410182983850886\n"
     ]
    }
   ],
   "source": [
    "# Costo\n",
    "print(costo_fs)"
   ]
  },
  {
   "cell_type": "code",
   "execution_count": 402,
   "metadata": {},
   "outputs": [
    {
     "data": {
      "text/plain": [
       "array([[8.09663447e-12],\n",
       "       [1.36587408e-11],\n",
       "       [7.60174146e-11]])"
      ]
     },
     "execution_count": 402,
     "metadata": {},
     "output_type": "execute_result"
    }
   ],
   "source": [
    "# Gradiente\n",
    "gradient(y, X, theta_fs, 1)"
   ]
  },
  {
   "cell_type": "code",
   "execution_count": 403,
   "metadata": {},
   "outputs": [
    {
     "name": "stdout",
     "output_type": "stream",
     "text": [
      "[[7 3]\n",
      " [2 8]]\n"
     ]
    }
   ],
   "source": [
    "# Matriz de confusión\n",
    "cm_fs = confusion_matrix(y, np.round(sigmoid(X, theta_fs),0))\n",
    "print(cm_fs)"
   ]
  },
  {
   "cell_type": "code",
   "execution_count": 404,
   "metadata": {},
   "outputs": [
    {
     "data": {
      "text/plain": [
       "0.75"
      ]
     },
     "execution_count": 404,
     "metadata": {},
     "output_type": "execute_result"
    }
   ],
   "source": [
    "# Medida de Error\n",
    "(cm_fs[0,0]+cm_fs[1,1])/y.size"
   ]
  },
  {
   "cell_type": "markdown",
   "metadata": {},
   "source": [
    "__Gradient Descent (Segundo Round)__"
   ]
  },
  {
   "cell_type": "code",
   "execution_count": 405,
   "metadata": {},
   "outputs": [
    {
     "name": "stderr",
     "output_type": "stream",
     "text": [
      "C:\\Users\\AYAR\\Anaconda3\\lib\\site-packages\\sklearn\\utils\\validation.py:475: DataConversionWarning: Data with input dtype int32 was converted to float64 by the scale function.\n",
      "  warnings.warn(msg, DataConversionWarning)\n"
     ]
    }
   ],
   "source": [
    "z1 = x1\n",
    "z2 = scale(x2)\n",
    "Z = np.stack((np.ones(len(y)),x1,z2)).T"
   ]
  },
  {
   "cell_type": "code",
   "execution_count": 406,
   "metadata": {},
   "outputs": [
    {
     "name": "stdout",
     "output_type": "stream",
     "text": [
      "             0         1         2\n",
      "0     0.000000  0.000000  0.000000\n",
      "1     0.000000 -0.004500  0.017770\n",
      "2     0.000030 -0.008939  0.035266\n",
      "3     0.000090 -0.013318  0.052491\n",
      "4     0.000179 -0.017637  0.069451\n",
      "5     0.000295 -0.021899  0.086150\n",
      "6     0.000438 -0.026105  0.102591\n",
      "7     0.000607 -0.030254  0.118780\n",
      "8     0.000802 -0.034349  0.134720\n",
      "9     0.001021 -0.038391  0.150417\n",
      "10    0.001264 -0.042380  0.165873\n",
      "11    0.001530 -0.046318  0.181094\n",
      "12    0.001818 -0.050205  0.196083\n",
      "13    0.002127 -0.054044  0.210845\n",
      "14    0.002457 -0.057834  0.225384\n",
      "15    0.002807 -0.061577  0.239704\n",
      "16    0.003177 -0.065273  0.253809\n",
      "17    0.003565 -0.068925  0.267703\n",
      "18    0.003972 -0.072532  0.281389\n",
      "19    0.004396 -0.076095  0.294872\n",
      "20    0.004836 -0.079617  0.308156\n",
      "21    0.005293 -0.083096  0.321243\n",
      "22    0.005766 -0.086535  0.334139\n",
      "23    0.006254 -0.089934  0.346846\n",
      "24    0.006756 -0.093294  0.359368\n",
      "25    0.007272 -0.096616  0.371709\n",
      "26    0.007802 -0.099900  0.383871\n",
      "27    0.008345 -0.103148  0.395859\n",
      "28    0.008901 -0.106360  0.407676\n",
      "29    0.009469 -0.109538  0.419324\n",
      "...        ...       ...       ...\n",
      "971   0.381901 -0.883023  1.555469\n",
      "972   0.382031 -0.883282  1.555479\n",
      "973   0.382160 -0.883542  1.555488\n",
      "974   0.382289 -0.883800  1.555498\n",
      "975   0.382417 -0.884058  1.555507\n",
      "976   0.382546 -0.884316  1.555517\n",
      "977   0.382674 -0.884574  1.555526\n",
      "978   0.382802 -0.884830  1.555536\n",
      "979   0.382929 -0.885087  1.555545\n",
      "980   0.383057 -0.885342  1.555554\n",
      "981   0.383184 -0.885598  1.555563\n",
      "982   0.383311 -0.885853  1.555572\n",
      "983   0.383438 -0.886107  1.555581\n",
      "984   0.383564 -0.886361  1.555590\n",
      "985   0.383690 -0.886615  1.555599\n",
      "986   0.383816 -0.886868  1.555608\n",
      "987   0.383942 -0.887120  1.555617\n",
      "988   0.384068 -0.887372  1.555625\n",
      "989   0.384193 -0.887624  1.555634\n",
      "990   0.384318 -0.887875  1.555643\n",
      "991   0.384443 -0.888126  1.555651\n",
      "992   0.384568 -0.888376  1.555660\n",
      "993   0.384692 -0.888626  1.555668\n",
      "994   0.384816 -0.888875  1.555676\n",
      "995   0.384940 -0.889124  1.555685\n",
      "996   0.385064 -0.889372  1.555693\n",
      "997   0.385187 -0.889620  1.555701\n",
      "998   0.385310 -0.889868  1.555709\n",
      "999   0.385433 -0.890115  1.555717\n",
      "1000  0.385556 -0.890361  1.555725\n",
      "\n",
      "[1001 rows x 3 columns]\n"
     ]
    },
    {
     "data": {
      "image/png": "[encoded data removed]",
      "text/plain": [
       "<matplotlib.figure.Figure at 0x1a464862240>"
      ]
     },
     "metadata": {},
     "output_type": "display_data"
    }
   ],
   "source": [
    "theta_gd, costo_gd = grad_descent(y, Z, theta_0, alpha=0.003,epocs=1000)"
   ]
  },
  {
   "cell_type": "code",
   "execution_count": 407,
   "metadata": {},
   "outputs": [
    {
     "name": "stdout",
     "output_type": "stream",
     "text": [
      "9.417008884362357\n"
     ]
    }
   ],
   "source": [
    "print(costo_gd)"
   ]
  },
  {
   "cell_type": "code",
   "execution_count": 408,
   "metadata": {},
   "outputs": [
    {
     "data": {
      "text/plain": [
       "array([[-0.04083576],\n",
       "       [ 0.08203232],\n",
       "       [-0.00264568]])"
      ]
     },
     "execution_count": 408,
     "metadata": {},
     "output_type": "execute_result"
    }
   ],
   "source": [
    "# Gradiente\n",
    "gradient(y, Z, theta_gd, 1)"
   ]
  },
  {
   "cell_type": "code",
   "execution_count": 409,
   "metadata": {},
   "outputs": [
    {
     "name": "stdout",
     "output_type": "stream",
     "text": [
      "[[7 3]\n",
      " [2 8]]\n"
     ]
    }
   ],
   "source": [
    "# Matriz de confusión\n",
    "cm_gd = confusion_matrix(y, np.round(sigmoid(Z, theta_gd),0))\n",
    "print(cm_gd)"
   ]
  },
  {
   "cell_type": "code",
   "execution_count": 410,
   "metadata": {},
   "outputs": [
    {
     "data": {
      "text/plain": [
       "0.75"
      ]
     },
     "execution_count": 410,
     "metadata": {},
     "output_type": "execute_result"
    }
   ],
   "source": [
    "# Medida de error\n",
    "(cm_gd[0,0]+cm_gd[1,1])/y.size"
   ]
  },
  {
   "cell_type": "markdown",
   "metadata": {},
   "source": [
    "#### 5.1.2 Verificación de resultados"
   ]
  },
  {
   "cell_type": "markdown",
   "metadata": {},
   "source": [
    "A continuación verificamos si obtenemos estimadores próximos a los que se obtenienen usando dos librerías."
   ]
  },
  {
   "cell_type": "markdown",
   "metadata": {},
   "source": [
    "__StatsModels__"
   ]
  },
  {
   "cell_type": "code",
   "execution_count": 412,
   "metadata": {},
   "outputs": [
    {
     "name": "stdout",
     "output_type": "stream",
     "text": [
      "                 Generalized Linear Model Regression Results                  \n",
      "==============================================================================\n",
      "Dep. Variable:                LeGusta   No. Observations:                   20\n",
      "Model:                            GLM   Df Residuals:                       17\n",
      "Model Family:                Binomial   Df Model:                            2\n",
      "Link Function:                  logit   Scale:                             1.0\n",
      "Method:                          IRLS   Log-Likelihood:                -9.4102\n",
      "Date:                Fri, 17 Aug 2018   Deviance:                       18.820\n",
      "Time:                        22:24:00   Pearson chi2:                     17.6\n",
      "No. Iterations:                     5                                         \n",
      "================================================================================\n",
      "                   coef    std err          z      P>|z|      [0.025      0.975]\n",
      "--------------------------------------------------------------------------------\n",
      "Intercept       -6.3635      3.214     -1.980      0.048     -12.663      -0.064\n",
      "EnVisto         -1.0241      1.171     -0.874      0.382      -3.319       1.271\n",
      "PromPalabras     0.1190      0.055      2.165      0.030       0.011       0.227\n",
      "================================================================================\n"
     ]
    }
   ],
   "source": [
    "sm_model = smf.glm(formula = 'LeGusta ~ EnVisto + PromPalabras', data=data, family=sm.families.Binomial())\n",
    "result = sm_model.fit()\n",
    "print(result.summary())"
   ]
  },
  {
   "cell_type": "markdown",
   "metadata": {},
   "source": [
    "__Sklearn__"
   ]
  },
  {
   "cell_type": "code",
   "execution_count": 257,
   "metadata": {},
   "outputs": [
    {
     "data": {
      "text/plain": [
       "array([[-0.89939683],\n",
       "       [-0.78848242],\n",
       "       [ 0.02525792]])"
      ]
     },
     "execution_count": 257,
     "metadata": {},
     "output_type": "execute_result"
    }
   ],
   "source": [
    "sk_model = LogisticRegression()\n",
    "sk_model.fit(X[:,1:],y.ravel())\n",
    "theta_sk=np.zeros([3, 1])\n",
    "theta_sk[0,0]=sk_model.intercept_\n",
    "theta_sk[1,0]=sk_model.coef_[0][0]\n",
    "theta_sk[2,0]=sk_model.coef_[0][1]\n",
    "theta_sk"
   ]
  },
  {
   "cell_type": "code",
   "execution_count": 264,
   "metadata": {},
   "outputs": [
    {
     "data": {
      "text/plain": [
       "array([[11.5994895]])"
      ]
     },
     "execution_count": 264,
     "metadata": {},
     "output_type": "execute_result"
    }
   ],
   "source": [
    "# Costo\n",
    "J(y, X, theta_sk, m=1)"
   ]
  },
  {
   "cell_type": "code",
   "execution_count": 261,
   "metadata": {},
   "outputs": [
    {
     "name": "stdout",
     "output_type": "stream",
     "text": [
      "[[6 4]\n",
      " [1 9]]\n"
     ]
    }
   ],
   "source": [
    "# Matriz de confución\n",
    "cm_sk = confusion_matrix(y, np.round(sigmoid(X, theta_sk),0))\n",
    "print(cm_sk)"
   ]
  },
  {
   "cell_type": "code",
   "execution_count": 265,
   "metadata": {},
   "outputs": [
    {
     "data": {
      "text/plain": [
       "0.75"
      ]
     },
     "execution_count": 265,
     "metadata": {},
     "output_type": "execute_result"
    }
   ],
   "source": [
    "# Medida de Error\n",
    "(cm_sk[0,0]+cm_sk[1,1])/y.size"
   ]
  },
  {
   "cell_type": "markdown",
   "metadata": {},
   "source": [
    "### 5.2 Datos con respuestas Binomiales"
   ]
  },
  {
   "cell_type": "markdown",
   "metadata": {},
   "source": [
    "En este caso el conjunto de datos corresponde a escarabajos.\n",
    "\n",
    "__Variable de Respuesta__ \n",
    "\n",
    "* $y_i$: Número de escarabajos muertos respecto a un total de $n_i$ expuestos a cierta concentración $i$ de veneno\n",
    "\n",
    "__Variables Predictoras__ \n",
    "\n",
    "* $conc_i$: Concentración $i$ de un veneno\n",
    "* ${conc_i}^2$: Concentración $i$ del veneno al cuadrado"
   ]
  },
  {
   "cell_type": "code",
   "execution_count": 351,
   "metadata": {},
   "outputs": [
    {
     "data": {
      "text/html": [
       "<div>\n",
       "<style scoped>\n",
       "    .dataframe tbody tr th:only-of-type {\n",
       "        vertical-align: middle;\n",
       "    }\n",
       "\n",
       "    .dataframe tbody tr th {\n",
       "        vertical-align: top;\n",
       "    }\n",
       "\n",
       "    .dataframe thead th {\n",
       "        text-align: right;\n",
       "    }\n",
       "</style>\n",
       "<table border=\"1\" class=\"dataframe\">\n",
       "  <thead>\n",
       "    <tr style=\"text-align: right;\">\n",
       "      <th></th>\n",
       "      <th>conc</th>\n",
       "      <th>y</th>\n",
       "      <th>n</th>\n",
       "    </tr>\n",
       "  </thead>\n",
       "  <tbody>\n",
       "    <tr>\n",
       "      <th>0</th>\n",
       "      <td>49.06</td>\n",
       "      <td>2</td>\n",
       "      <td>29</td>\n",
       "    </tr>\n",
       "    <tr>\n",
       "      <th>1</th>\n",
       "      <td>52.99</td>\n",
       "      <td>7</td>\n",
       "      <td>30</td>\n",
       "    </tr>\n",
       "    <tr>\n",
       "      <th>2</th>\n",
       "      <td>56.91</td>\n",
       "      <td>9</td>\n",
       "      <td>28</td>\n",
       "    </tr>\n",
       "    <tr>\n",
       "      <th>3</th>\n",
       "      <td>60.84</td>\n",
       "      <td>14</td>\n",
       "      <td>27</td>\n",
       "    </tr>\n",
       "    <tr>\n",
       "      <th>4</th>\n",
       "      <td>64.76</td>\n",
       "      <td>23</td>\n",
       "      <td>30</td>\n",
       "    </tr>\n",
       "    <tr>\n",
       "      <th>5</th>\n",
       "      <td>68.69</td>\n",
       "      <td>29</td>\n",
       "      <td>31</td>\n",
       "    </tr>\n",
       "    <tr>\n",
       "      <th>6</th>\n",
       "      <td>72.61</td>\n",
       "      <td>29</td>\n",
       "      <td>30</td>\n",
       "    </tr>\n",
       "    <tr>\n",
       "      <th>7</th>\n",
       "      <td>76.54</td>\n",
       "      <td>29</td>\n",
       "      <td>29</td>\n",
       "    </tr>\n",
       "    <tr>\n",
       "      <th>8</th>\n",
       "      <td>49.06</td>\n",
       "      <td>4</td>\n",
       "      <td>30</td>\n",
       "    </tr>\n",
       "    <tr>\n",
       "      <th>9</th>\n",
       "      <td>52.99</td>\n",
       "      <td>6</td>\n",
       "      <td>30</td>\n",
       "    </tr>\n",
       "    <tr>\n",
       "      <th>10</th>\n",
       "      <td>56.91</td>\n",
       "      <td>9</td>\n",
       "      <td>34</td>\n",
       "    </tr>\n",
       "    <tr>\n",
       "      <th>11</th>\n",
       "      <td>60.84</td>\n",
       "      <td>14</td>\n",
       "      <td>29</td>\n",
       "    </tr>\n",
       "    <tr>\n",
       "      <th>12</th>\n",
       "      <td>64.76</td>\n",
       "      <td>29</td>\n",
       "      <td>33</td>\n",
       "    </tr>\n",
       "    <tr>\n",
       "      <th>13</th>\n",
       "      <td>68.69</td>\n",
       "      <td>24</td>\n",
       "      <td>28</td>\n",
       "    </tr>\n",
       "    <tr>\n",
       "      <th>14</th>\n",
       "      <td>72.61</td>\n",
       "      <td>32</td>\n",
       "      <td>32</td>\n",
       "    </tr>\n",
       "    <tr>\n",
       "      <th>15</th>\n",
       "      <td>76.54</td>\n",
       "      <td>31</td>\n",
       "      <td>31</td>\n",
       "    </tr>\n",
       "  </tbody>\n",
       "</table>\n",
       "</div>"
      ],
      "text/plain": [
       "     conc   y   n\n",
       "0   49.06   2  29\n",
       "1   52.99   7  30\n",
       "2   56.91   9  28\n",
       "3   60.84  14  27\n",
       "4   64.76  23  30\n",
       "5   68.69  29  31\n",
       "6   72.61  29  30\n",
       "7   76.54  29  29\n",
       "8   49.06   4  30\n",
       "9   52.99   6  30\n",
       "10  56.91   9  34\n",
       "11  60.84  14  29\n",
       "12  64.76  29  33\n",
       "13  68.69  24  28\n",
       "14  72.61  32  32\n",
       "15  76.54  31  31"
      ]
     },
     "execution_count": 351,
     "metadata": {},
     "output_type": "execute_result"
    }
   ],
   "source": [
    "# Lectura de datos\n",
    "data=pd.read_csv(\"SC1_11_beetles.txt\",sep=\";\")\n",
    "data"
   ]
  },
  {
   "cell_type": "markdown",
   "metadata": {},
   "source": [
    "#### 5.2.1 Estimación de parámetros"
   ]
  },
  {
   "cell_type": "code",
   "execution_count": 380,
   "metadata": {},
   "outputs": [],
   "source": [
    "# Preparación de variables\n",
    "y=np.array(data.y)\n",
    "y.shape=(len(y),1)\n",
    "\n",
    "m=np.array(data.n)\n",
    "m.shape=(len(m),1)\n",
    "\n",
    "x=data.conc\n",
    "X=np.stack((np.ones(len(y)),x,x*x)).T\n",
    "Z=np.stack((np.ones(len(y)),scale(x),scale(x*x))).T"
   ]
  },
  {
   "cell_type": "code",
   "execution_count": 381,
   "metadata": {},
   "outputs": [
    {
     "data": {
      "text/plain": [
       "array([[0.4262992],\n",
       "       [0.       ],\n",
       "       [0.       ]])"
      ]
     },
     "execution_count": 381,
     "metadata": {},
     "output_type": "execute_result"
    }
   ],
   "source": [
    "# Definición de un beta inicial\n",
    "theta_0 = np.array([math.log(sum(y) / sum(m - y)), 0.0, 0.0])\n",
    "theta_0.shape=(3,1)\n",
    "theta_0"
   ]
  },
  {
   "cell_type": "markdown",
   "metadata": {},
   "source": [
    "__Gradient Descent__"
   ]
  },
  {
   "cell_type": "code",
   "execution_count": 382,
   "metadata": {},
   "outputs": [
    {
     "name": "stdout",
     "output_type": "stream",
     "text": [
      "             0         1         2\n",
      "0     0.426299  0.000000  0.000000\n",
      "1     0.426299  0.048308  0.047906\n",
      "2     0.426310  0.093310  0.092508\n",
      "3     0.426392  0.135258  0.134060\n",
      "4     0.426587  0.174398  0.172810\n",
      "5     0.426928  0.210963  0.208993\n",
      "6     0.427433  0.245171  0.242828\n",
      "7     0.428115  0.277224  0.274519\n",
      "8     0.428978  0.307307  0.304251\n",
      "9     0.430023  0.335589  0.332192\n",
      "10    0.431245  0.362221  0.358494\n",
      "11    0.432640  0.387340  0.383295\n",
      "12    0.434200  0.411072  0.406717\n",
      "13    0.435915  0.433527  0.428873\n",
      "14    0.437777  0.454806  0.449864\n",
      "15    0.439777  0.475000  0.469778\n",
      "16    0.441905  0.494191  0.488698\n",
      "17    0.444152  0.512453  0.506698\n",
      "18    0.446509  0.529853  0.523844\n",
      "19    0.448966  0.546451  0.540197\n",
      "20    0.451517  0.562303  0.555811\n",
      "21    0.454153  0.577459  0.570737\n",
      "22    0.456867  0.591965  0.585019\n",
      "23    0.459652  0.605862  0.598700\n",
      "24    0.462502  0.619189  0.611817\n",
      "25    0.465409  0.631980  0.624404\n",
      "26    0.468370  0.644268  0.636495\n",
      "27    0.471377  0.656082  0.648118\n",
      "28    0.474427  0.667450  0.659299\n",
      "29    0.477515  0.678396  0.670065\n",
      "...        ...       ...       ...\n",
      "971   0.892627  1.086366  1.205877\n",
      "972   0.892630  1.086285  1.205962\n",
      "973   0.892634  1.086203  1.206046\n",
      "974   0.892638  1.086122  1.206131\n",
      "975   0.892642  1.086041  1.206215\n",
      "976   0.892646  1.085960  1.206299\n",
      "977   0.892650  1.085879  1.206384\n",
      "978   0.892654  1.085798  1.206468\n",
      "979   0.892657  1.085717  1.206553\n",
      "980   0.892661  1.085636  1.206637\n",
      "981   0.892665  1.085555  1.206721\n",
      "982   0.892669  1.085474  1.206806\n",
      "983   0.892673  1.085393  1.206890\n",
      "984   0.892677  1.085311  1.206975\n",
      "985   0.892681  1.085230  1.207059\n",
      "986   0.892684  1.085149  1.207143\n",
      "987   0.892688  1.085068  1.207228\n",
      "988   0.892692  1.084987  1.207312\n",
      "989   0.892696  1.084906  1.207397\n",
      "990   0.892700  1.084825  1.207481\n",
      "991   0.892703  1.084744  1.207565\n",
      "992   0.892707  1.084663  1.207650\n",
      "993   0.892711  1.084582  1.207734\n",
      "994   0.892715  1.084500  1.207818\n",
      "995   0.892719  1.084419  1.207903\n",
      "996   0.892723  1.084338  1.207987\n",
      "997   0.892726  1.084257  1.208071\n",
      "998   0.892730  1.084176  1.208156\n",
      "999   0.892734  1.084095  1.208240\n",
      "1000  0.892738  1.084014  1.208324\n",
      "\n",
      "[1001 rows x 3 columns]\n"
     ]
    },
    {
     "data": {
      "image/png": "[encoded data removed]",
      "text/plain": [
       "<matplotlib.figure.Figure at 0x1a46357d2b0>"
      ]
     },
     "metadata": {},
     "output_type": "display_data"
    }
   ],
   "source": [
    "# Estimación por gradient descent\n",
    "theta_gd2, costo_gd2 = grad_descent(y, Z, theta_0, m=m, alpha=0.0003,epocs=1000)"
   ]
  },
  {
   "cell_type": "code",
   "execution_count": 383,
   "metadata": {},
   "outputs": [
    {
     "name": "stdout",
     "output_type": "stream",
     "text": [
      "183.67334946187438\n"
     ]
    }
   ],
   "source": [
    "print(costo_gd2)"
   ]
  },
  {
   "cell_type": "code",
   "execution_count": 384,
   "metadata": {},
   "outputs": [
    {
     "data": {
      "text/plain": [
       "[]"
      ]
     },
     "execution_count": 384,
     "metadata": {},
     "output_type": "execute_result"
    },
    {
     "data": {
      "image/png": "[encoded data removed]",
      "text/plain": [
       "<matplotlib.figure.Figure at 0x1a46361cbe0>"
      ]
     },
     "metadata": {},
     "output_type": "display_data"
    }
   ],
   "source": [
    "# Gráficos\n",
    "p_est_gd = sigmoid(Z, theta_gd2)\n",
    "plt.plot(p_est_gd, label=\"p_est_gd\")\n",
    "plt.plot(y/m, label=\"p\")\n",
    "plt.legend()\n",
    "plt.plot()"
   ]
  },
  {
   "cell_type": "code",
   "execution_count": 385,
   "metadata": {},
   "outputs": [
    {
     "data": {
      "text/plain": [
       "array([0.04059541])"
      ]
     },
     "execution_count": 385,
     "metadata": {},
     "output_type": "execute_result"
    }
   ],
   "source": [
    "# Medida de Error\n",
    "sum((y/m-p_est_gd)**2)"
   ]
  },
  {
   "cell_type": "markdown",
   "metadata": {},
   "source": [
    "__Fisher Scoring__"
   ]
  },
  {
   "cell_type": "code",
   "execution_count": 386,
   "metadata": {},
   "outputs": [
    {
     "name": "stdout",
     "output_type": "stream",
     "text": [
      "           0         1         2\n",
      "0   0.426299  0.000000  0.000000\n",
      "1 -17.648684  0.424804 -0.002140\n",
      "2 -11.793852  0.178721  0.000312\n",
      "3   0.204747 -0.243160  0.003985\n",
      "4   6.735187 -0.472860  0.005988\n",
      "5   7.933284 -0.515344  0.006361\n",
      "6   7.968380 -0.516592  0.006372\n",
      "7   7.968410 -0.516593  0.006372\n"
     ]
    },
    {
     "data": {
      "image/png": "[encoded data removed]",
      "text/plain": [
       "<matplotlib.figure.Figure at 0x1a4648913c8>"
      ]
     },
     "metadata": {},
     "output_type": "display_data"
    }
   ],
   "source": [
    "# Estimación\n",
    "theta_fs2, costo_fs2 = fisher_scoring(y, X, theta_0, m=m)"
   ]
  },
  {
   "cell_type": "code",
   "execution_count": 387,
   "metadata": {},
   "outputs": [
    {
     "name": "stdout",
     "output_type": "stream",
     "text": [
      "182.11352913760606\n"
     ]
    }
   ],
   "source": [
    "# Costo\n",
    "print(costo_fs2)"
   ]
  },
  {
   "cell_type": "code",
   "execution_count": 388,
   "metadata": {},
   "outputs": [
    {
     "data": {
      "text/plain": [
       "[]"
      ]
     },
     "execution_count": 388,
     "metadata": {},
     "output_type": "execute_result"
    },
    {
     "data": {
      "image/png": "[encoded data removed]",
      "text/plain": [
       "<matplotlib.figure.Figure at 0x1a465153438>"
      ]
     },
     "metadata": {},
     "output_type": "display_data"
    }
   ],
   "source": [
    "# Graficos\n",
    "p_est = sigmoid(X, theta_fs2)\n",
    "plt.plot(p_est,label=\"p_est\")\n",
    "plt.plot(y/m,label=\"p\")\n",
    "plt.legend()\n",
    "plt.plot()"
   ]
  },
  {
   "cell_type": "code",
   "execution_count": 389,
   "metadata": {},
   "outputs": [
    {
     "name": "stdout",
     "output_type": "stream",
     "text": [
      "[0.02685729]\n"
     ]
    }
   ],
   "source": [
    "# Medida de Error\n",
    "print(sum((y/m-p_est)**2))"
   ]
  },
  {
   "cell_type": "markdown",
   "metadata": {},
   "source": [
    "#### 5.2.2 Verificación de resultados"
   ]
  },
  {
   "cell_type": "markdown",
   "metadata": {},
   "source": [
    "A continuación verificamos si obtenemos estimadores próximos a los que se obtenienen usando una librería."
   ]
  },
  {
   "cell_type": "markdown",
   "metadata": {},
   "source": [
    "__StatsModels__"
   ]
  },
  {
   "cell_type": "code",
   "execution_count": 390,
   "metadata": {
    "scrolled": true
   },
   "outputs": [
    {
     "name": "stdout",
     "output_type": "stream",
     "text": [
      "                 Generalized Linear Model Regression Results                  \n",
      "==============================================================================\n",
      "Dep. Variable:           ['y1', 'y2']   No. Observations:                   16\n",
      "Model:                            GLM   Df Residuals:                       13\n",
      "Model Family:                Binomial   Df Model:                            2\n",
      "Link Function:                  logit   Scale:                             1.0\n",
      "Method:                          IRLS   Log-Likelihood:                -24.948\n",
      "Date:                Fri, 17 Aug 2018   Deviance:                       7.9273\n",
      "Time:                        20:38:39   Pearson chi2:                    0.243\n",
      "No. Iterations:                     7                                         \n",
      "==============================================================================\n",
      "                 coef    std err          z      P>|z|      [0.025      0.975]\n",
      "------------------------------------------------------------------------------\n",
      "const          7.9684     11.036      0.722      0.470     -13.662      29.599\n",
      "x1            -0.5166      0.374     -1.383      0.167      -1.249       0.216\n",
      "x2             0.0064      0.003      2.027      0.043       0.000       0.013\n",
      "==============================================================================\n"
     ]
    }
   ],
   "source": [
    "model = sm.GLM(np.stack((data.y,data.n-data.y)).T, X, family=sm.families.Binomial())\n",
    "result = model.fit()\n",
    "print(result.summary())"
   ]
  }
 ],
 "metadata": {
  "kernelspec": {
   "display_name": "Python 3",
   "language": "python",
   "name": "python3"
  },
  "language_info": {
   "codemirror_mode": {
    "name": "ipython",
    "version": 3
   },
   "file_extension": ".py",
   "mimetype": "text/x-python",
   "name": "python",
   "nbconvert_exporter": "python",
   "pygments_lexer": "ipython3",
   "version": "3.6.4"
  },
  "toc": {
   "base_numbering": 1,
   "nav_menu": {},
   "number_sections": false,
   "sideBar": true,
   "skip_h1_title": true,
   "title_cell": "Table of Contents",
   "title_sidebar": "Contents",
   "toc_cell": false,
   "toc_position": {
    "height": "calc(100% - 180px)",
    "left": "10px",
    "top": "150px",
    "width": "267px"
   },
   "toc_section_display": true,
   "toc_window_display": true
  }
 },
 "nbformat": 4,
 "nbformat_minor": 2
}
